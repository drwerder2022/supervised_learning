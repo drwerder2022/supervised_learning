{
 "cells": [
  {
   "cell_type": "markdown",
   "metadata": {
    "toc": true
   },
   "source": [
    "<h1>Содержание<span class=\"tocSkip\"></span></h1>\n",
    "<div class=\"toc\"><ul class=\"toc-item\"><li><span><a href=\"#Подготовка-данных\" data-toc-modified-id=\"Подготовка-данных-1\"><span class=\"toc-item-num\">1&nbsp;&nbsp;</span>Подготовка данных</a></span><ul class=\"toc-item\"><li><span><a href=\"#Чистка-данных\" data-toc-modified-id=\"Чистка-данных-1.1\"><span class=\"toc-item-num\">1.1&nbsp;&nbsp;</span>Чистка данных</a></span></li><li><span><a href=\"#Подготовка-данных-для-исследования\" data-toc-modified-id=\"Подготовка-данных-для-исследования-1.2\"><span class=\"toc-item-num\">1.2&nbsp;&nbsp;</span>Подготовка данных для исследования</a></span></li><li><span><a href=\"#Выводы\" data-toc-modified-id=\"Выводы-1.3\"><span class=\"toc-item-num\">1.3&nbsp;&nbsp;</span>Выводы</a></span></li></ul></li><li><span><a href=\"#Исследование-задачи\" data-toc-modified-id=\"Исследование-задачи-2\"><span class=\"toc-item-num\">2&nbsp;&nbsp;</span>Исследование задачи</a></span><ul class=\"toc-item\"><li><span><a href=\"#Целевой-признак\" data-toc-modified-id=\"Целевой-признак-2.1\"><span class=\"toc-item-num\">2.1&nbsp;&nbsp;</span>Целевой признак</a></span></li><li><span><a href=\"#Decision-Tree\" data-toc-modified-id=\"Decision-Tree-2.2\"><span class=\"toc-item-num\">2.2&nbsp;&nbsp;</span>Decision Tree</a></span></li><li><span><a href=\"#Logistic-Regression\" data-toc-modified-id=\"Logistic-Regression-2.3\"><span class=\"toc-item-num\">2.3&nbsp;&nbsp;</span>Logistic Regression</a></span></li><li><span><a href=\"#Random-Forest\" data-toc-modified-id=\"Random-Forest-2.4\"><span class=\"toc-item-num\">2.4&nbsp;&nbsp;</span>Random Forest</a></span></li><li><span><a href=\"#Проверка-моделей-на-адекватность\" data-toc-modified-id=\"Проверка-моделей-на-адекватность-2.5\"><span class=\"toc-item-num\">2.5&nbsp;&nbsp;</span>Проверка моделей на адекватность</a></span></li><li><span><a href=\"#Выводы\" data-toc-modified-id=\"Выводы-2.6\"><span class=\"toc-item-num\">2.6&nbsp;&nbsp;</span>Выводы</a></span></li></ul></li><li><span><a href=\"#Борьба-с-дисбалансом\" data-toc-modified-id=\"Борьба-с-дисбалансом-3\"><span class=\"toc-item-num\">3&nbsp;&nbsp;</span>Борьба с дисбалансом</a></span><ul class=\"toc-item\"><li><span><a href=\"#Upsampling\" data-toc-modified-id=\"Upsampling-3.1\"><span class=\"toc-item-num\">3.1&nbsp;&nbsp;</span>Upsampling</a></span></li><li><span><a href=\"#Алгоритмы-на-обновленных-данных\" data-toc-modified-id=\"Алгоритмы-на-обновленных-данных-3.2\"><span class=\"toc-item-num\">3.2&nbsp;&nbsp;</span>Алгоритмы на обновленных данных</a></span><ul class=\"toc-item\"><li><span><a href=\"#Decision-Tree\" data-toc-modified-id=\"Decision-Tree-3.2.1\"><span class=\"toc-item-num\">3.2.1&nbsp;&nbsp;</span>Decision Tree</a></span></li><li><span><a href=\"#Logistic-Regression\" data-toc-modified-id=\"Logistic-Regression-3.2.2\"><span class=\"toc-item-num\">3.2.2&nbsp;&nbsp;</span>Logistic Regression</a></span></li><li><span><a href=\"#Random-Forest\" data-toc-modified-id=\"Random-Forest-3.2.3\"><span class=\"toc-item-num\">3.2.3&nbsp;&nbsp;</span>Random Forest</a></span></li></ul></li><li><span><a href=\"#Изменение-порога\" data-toc-modified-id=\"Изменение-порога-3.3\"><span class=\"toc-item-num\">3.3&nbsp;&nbsp;</span>Изменение порога</a></span></li><li><span><a href=\"#AUC_ROC\" data-toc-modified-id=\"AUC_ROC-3.4\"><span class=\"toc-item-num\">3.4&nbsp;&nbsp;</span>AUC_ROC</a></span></li><li><span><a href=\"#Выводы\" data-toc-modified-id=\"Выводы-3.5\"><span class=\"toc-item-num\">3.5&nbsp;&nbsp;</span>Выводы</a></span></li></ul></li><li><span><a href=\"#Тестирование-модели\" data-toc-modified-id=\"Тестирование-модели-4\"><span class=\"toc-item-num\">4&nbsp;&nbsp;</span>Тестирование модели</a></span><ul class=\"toc-item\"><li><span><a href=\"#F1-score\" data-toc-modified-id=\"F1-score-4.1\"><span class=\"toc-item-num\">4.1&nbsp;&nbsp;</span>F1 score</a></span></li><li><span><a href=\"#AUC_ROC\" data-toc-modified-id=\"AUC_ROC-4.2\"><span class=\"toc-item-num\">4.2&nbsp;&nbsp;</span>AUC_ROC</a></span></li><li><span><a href=\"#Выводы\" data-toc-modified-id=\"Выводы-4.3\"><span class=\"toc-item-num\">4.3&nbsp;&nbsp;</span>Выводы</a></span></li></ul></li><li><span><a href=\"#Общие-выводы\" data-toc-modified-id=\"Общие-выводы-5\"><span class=\"toc-item-num\">5&nbsp;&nbsp;</span>Общие выводы</a></span></li></ul></div>"
   ]
  },
  {
   "cell_type": "markdown",
   "metadata": {},
   "source": [
    "# Отток клиентов"
   ]
  },
  {
   "cell_type": "markdown",
   "metadata": {},
   "source": [
    "Из «Бета-Банка» стали уходить клиенты. Каждый месяц. Немного, но заметно. Банковские маркетологи посчитали: сохранять текущих клиентов дешевле, чем привлекать новых.\n",
    "\n",
    "Нужно спрогнозировать, уйдёт клиент из банка в ближайшее время или нет. Вам предоставлены исторические данные о поведении клиентов и расторжении договоров с банком. \n",
    "\n",
    "Постройте модель с предельно большим значением *F1*-меры. Чтобы сдать проект успешно, нужно довести метрику до 0.59. Проверьте *F1*-меру на тестовой выборке самостоятельно.\n",
    "\n",
    "Дополнительно измеряйте *AUC-ROC*, сравнивайте её значение с *F1*-мерой.\n",
    "\n",
    "Источник данных: [https://www.kaggle.com/barelydedicated/bank-customer-churn-modeling](https://www.kaggle.com/barelydedicated/bank-customer-churn-modeling)"
   ]
  },
  {
   "cell_type": "markdown",
   "metadata": {},
   "source": [
    "## Подготовка данных"
   ]
  },
  {
   "cell_type": "markdown",
   "metadata": {},
   "source": [
    "### Чистка данных"
   ]
  },
  {
   "cell_type": "code",
   "execution_count": 1,
   "metadata": {},
   "outputs": [],
   "source": [
    "import pandas as pd\n",
    "import matplotlib.pyplot as plt\n",
    "import numpy as np\n",
    "\n",
    "from sklearn.tree import DecisionTreeClassifier\n",
    "from sklearn.linear_model import LogisticRegressionь\n",
    "from sklearn.ensemble import RandomForestClassifier\n",
    "from sklearn.dummy import DummyClassifier\n",
    "\n",
    "from sklearn.model_selection import train_test_split\n",
    "from sklearn.utils import shuffle\n",
    "from sklearn.preprocessing import StandardScaler \n",
    "from sklearn.metrics import accuracy_score, f1_score, precision_score, recall_score, confusion_matrix, roc_curve, roc_auc_score"
   ]
  },
  {
   "cell_type": "markdown",
   "metadata": {},
   "source": [
    "Импорт библиотек"
   ]
  },
  {
   "cell_type": "code",
   "execution_count": 2,
   "metadata": {},
   "outputs": [
    {
     "name": "stdout",
     "output_type": "stream",
     "text": [
      "(10000, 14)\n"
     ]
    },
    {
     "data": {
      "text/html": [
       "<div>\n",
       "<style scoped>\n",
       "    .dataframe tbody tr th:only-of-type {\n",
       "        vertical-align: middle;\n",
       "    }\n",
       "\n",
       "    .dataframe tbody tr th {\n",
       "        vertical-align: top;\n",
       "    }\n",
       "\n",
       "    .dataframe thead th {\n",
       "        text-align: right;\n",
       "    }\n",
       "</style>\n",
       "<table border=\"1\" class=\"dataframe\">\n",
       "  <thead>\n",
       "    <tr style=\"text-align: right;\">\n",
       "      <th></th>\n",
       "      <th>RowNumber</th>\n",
       "      <th>CustomerId</th>\n",
       "      <th>Surname</th>\n",
       "      <th>CreditScore</th>\n",
       "      <th>Geography</th>\n",
       "      <th>Gender</th>\n",
       "      <th>Age</th>\n",
       "      <th>Tenure</th>\n",
       "      <th>Balance</th>\n",
       "      <th>NumOfProducts</th>\n",
       "      <th>HasCrCard</th>\n",
       "      <th>IsActiveMember</th>\n",
       "      <th>EstimatedSalary</th>\n",
       "      <th>Exited</th>\n",
       "    </tr>\n",
       "  </thead>\n",
       "  <tbody>\n",
       "    <tr>\n",
       "      <th>0</th>\n",
       "      <td>1</td>\n",
       "      <td>15634602</td>\n",
       "      <td>Hargrave</td>\n",
       "      <td>619</td>\n",
       "      <td>France</td>\n",
       "      <td>Female</td>\n",
       "      <td>42</td>\n",
       "      <td>2.0</td>\n",
       "      <td>0.00</td>\n",
       "      <td>1</td>\n",
       "      <td>1</td>\n",
       "      <td>1</td>\n",
       "      <td>101348.88</td>\n",
       "      <td>1</td>\n",
       "    </tr>\n",
       "    <tr>\n",
       "      <th>1</th>\n",
       "      <td>2</td>\n",
       "      <td>15647311</td>\n",
       "      <td>Hill</td>\n",
       "      <td>608</td>\n",
       "      <td>Spain</td>\n",
       "      <td>Female</td>\n",
       "      <td>41</td>\n",
       "      <td>1.0</td>\n",
       "      <td>83807.86</td>\n",
       "      <td>1</td>\n",
       "      <td>0</td>\n",
       "      <td>1</td>\n",
       "      <td>112542.58</td>\n",
       "      <td>0</td>\n",
       "    </tr>\n",
       "    <tr>\n",
       "      <th>2</th>\n",
       "      <td>3</td>\n",
       "      <td>15619304</td>\n",
       "      <td>Onio</td>\n",
       "      <td>502</td>\n",
       "      <td>France</td>\n",
       "      <td>Female</td>\n",
       "      <td>42</td>\n",
       "      <td>8.0</td>\n",
       "      <td>159660.80</td>\n",
       "      <td>3</td>\n",
       "      <td>1</td>\n",
       "      <td>0</td>\n",
       "      <td>113931.57</td>\n",
       "      <td>1</td>\n",
       "    </tr>\n",
       "    <tr>\n",
       "      <th>3</th>\n",
       "      <td>4</td>\n",
       "      <td>15701354</td>\n",
       "      <td>Boni</td>\n",
       "      <td>699</td>\n",
       "      <td>France</td>\n",
       "      <td>Female</td>\n",
       "      <td>39</td>\n",
       "      <td>1.0</td>\n",
       "      <td>0.00</td>\n",
       "      <td>2</td>\n",
       "      <td>0</td>\n",
       "      <td>0</td>\n",
       "      <td>93826.63</td>\n",
       "      <td>0</td>\n",
       "    </tr>\n",
       "    <tr>\n",
       "      <th>4</th>\n",
       "      <td>5</td>\n",
       "      <td>15737888</td>\n",
       "      <td>Mitchell</td>\n",
       "      <td>850</td>\n",
       "      <td>Spain</td>\n",
       "      <td>Female</td>\n",
       "      <td>43</td>\n",
       "      <td>2.0</td>\n",
       "      <td>125510.82</td>\n",
       "      <td>1</td>\n",
       "      <td>1</td>\n",
       "      <td>1</td>\n",
       "      <td>79084.10</td>\n",
       "      <td>0</td>\n",
       "    </tr>\n",
       "  </tbody>\n",
       "</table>\n",
       "</div>"
      ],
      "text/plain": [
       "   RowNumber  CustomerId   Surname  CreditScore Geography  Gender  Age  \\\n",
       "0          1    15634602  Hargrave          619    France  Female   42   \n",
       "1          2    15647311      Hill          608     Spain  Female   41   \n",
       "2          3    15619304      Onio          502    France  Female   42   \n",
       "3          4    15701354      Boni          699    France  Female   39   \n",
       "4          5    15737888  Mitchell          850     Spain  Female   43   \n",
       "\n",
       "   Tenure    Balance  NumOfProducts  HasCrCard  IsActiveMember  \\\n",
       "0     2.0       0.00              1          1               1   \n",
       "1     1.0   83807.86              1          0               1   \n",
       "2     8.0  159660.80              3          1               0   \n",
       "3     1.0       0.00              2          0               0   \n",
       "4     2.0  125510.82              1          1               1   \n",
       "\n",
       "   EstimatedSalary  Exited  \n",
       "0        101348.88       1  \n",
       "1        112542.58       0  \n",
       "2        113931.57       1  \n",
       "3         93826.63       0  \n",
       "4         79084.10       0  "
      ]
     },
     "metadata": {},
     "output_type": "display_data"
    },
    {
     "name": "stdout",
     "output_type": "stream",
     "text": [
      "RowNumber            int64\n",
      "CustomerId           int64\n",
      "Surname             object\n",
      "CreditScore          int64\n",
      "Geography           object\n",
      "Gender              object\n",
      "Age                  int64\n",
      "Tenure             float64\n",
      "Balance            float64\n",
      "NumOfProducts        int64\n",
      "HasCrCard            int64\n",
      "IsActiveMember       int64\n",
      "EstimatedSalary    float64\n",
      "Exited               int64\n",
      "dtype: object\n"
     ]
    }
   ],
   "source": [
    "data = pd.read_csv('/datasets/Churn.csv')\n",
    "print(data.shape)\n",
    "display(data.head())\n",
    "print(data.dtypes)"
   ]
  },
  {
   "cell_type": "markdown",
   "metadata": {},
   "source": [
    "Импорт источника данных и первый взгляд на структуру"
   ]
  },
  {
   "cell_type": "code",
   "execution_count": 3,
   "metadata": {},
   "outputs": [],
   "source": [
    "data.columns = data.columns.str.lower()"
   ]
  },
  {
   "cell_type": "markdown",
   "metadata": {},
   "source": [
    "Перевод названий колонок в нижний регистр для удобства работы"
   ]
  },
  {
   "cell_type": "code",
   "execution_count": 4,
   "metadata": {},
   "outputs": [
    {
     "data": {
      "text/plain": [
       "rownumber            0\n",
       "customerid           0\n",
       "surname              0\n",
       "creditscore          0\n",
       "geography            0\n",
       "gender               0\n",
       "age                  0\n",
       "tenure             909\n",
       "balance              0\n",
       "numofproducts        0\n",
       "hascrcard            0\n",
       "isactivemember       0\n",
       "estimatedsalary      0\n",
       "exited               0\n",
       "dtype: int64"
      ]
     },
     "execution_count": 4,
     "metadata": {},
     "output_type": "execute_result"
    }
   ],
   "source": [
    "data.isna().sum()"
   ]
  },
  {
   "cell_type": "markdown",
   "metadata": {},
   "source": [
    "Проверка наличия пропусков в данных. Колонка цикла жизни клиента с банком имеет 909 пропусков. Изучим колонку чуть детальнее."
   ]
  },
  {
   "cell_type": "code",
   "execution_count": 5,
   "metadata": {},
   "outputs": [
    {
     "data": {
      "text/plain": [
       "array([ 2.,  1.,  8.,  7.,  4.,  6.,  3., 10.,  5.,  9.,  0., nan])"
      ]
     },
     "execution_count": 5,
     "metadata": {},
     "output_type": "execute_result"
    }
   ],
   "source": [
    "data['tenure'].unique()"
   ]
  },
  {
   "cell_type": "markdown",
   "metadata": {},
   "source": [
    "В данной колонке есть в том числе и нулевые значения, поэтому заполним пропуски нулями."
   ]
  },
  {
   "cell_type": "code",
   "execution_count": 6,
   "metadata": {},
   "outputs": [
    {
     "data": {
      "text/plain": [
       "rownumber          0\n",
       "customerid         0\n",
       "surname            0\n",
       "creditscore        0\n",
       "geography          0\n",
       "gender             0\n",
       "age                0\n",
       "tenure             0\n",
       "balance            0\n",
       "numofproducts      0\n",
       "hascrcard          0\n",
       "isactivemember     0\n",
       "estimatedsalary    0\n",
       "exited             0\n",
       "dtype: int64"
      ]
     },
     "execution_count": 6,
     "metadata": {},
     "output_type": "execute_result"
    }
   ],
   "source": [
    "data['tenure'] = data['tenure'].fillna(0)\n",
    "data.isna().sum()"
   ]
  },
  {
   "cell_type": "markdown",
   "metadata": {},
   "source": [
    "Заполнение пропусков и проверка успешности заполнения."
   ]
  },
  {
   "cell_type": "code",
   "execution_count": 7,
   "metadata": {},
   "outputs": [
    {
     "data": {
      "text/plain": [
       "0"
      ]
     },
     "execution_count": 7,
     "metadata": {},
     "output_type": "execute_result"
    }
   ],
   "source": [
    "data.duplicated().sum()"
   ]
  },
  {
   "cell_type": "markdown",
   "metadata": {},
   "source": [
    "Проверка наличия дубликатов ничего не выявила."
   ]
  },
  {
   "cell_type": "code",
   "execution_count": 8,
   "metadata": {},
   "outputs": [],
   "source": [
    "data2 = data.drop(['rownumber', 'surname', 'customerid'], axis=1)"
   ]
  },
  {
   "cell_type": "markdown",
   "metadata": {},
   "source": [
    "Порядковый номер строк и фамилия клиента не являются значимыми признаками при проведении прогнозного исследования. Уберем эти колонки из дальнейшего рассмотрения."
   ]
  },
  {
   "cell_type": "code",
   "execution_count": 9,
   "metadata": {},
   "outputs": [
    {
     "data": {
      "text/html": [
       "<div>\n",
       "<style scoped>\n",
       "    .dataframe tbody tr th:only-of-type {\n",
       "        vertical-align: middle;\n",
       "    }\n",
       "\n",
       "    .dataframe tbody tr th {\n",
       "        vertical-align: top;\n",
       "    }\n",
       "\n",
       "    .dataframe thead th {\n",
       "        text-align: right;\n",
       "    }\n",
       "</style>\n",
       "<table border=\"1\" class=\"dataframe\">\n",
       "  <thead>\n",
       "    <tr style=\"text-align: right;\">\n",
       "      <th></th>\n",
       "      <th>creditscore</th>\n",
       "      <th>geography</th>\n",
       "      <th>gender</th>\n",
       "      <th>age</th>\n",
       "      <th>tenure</th>\n",
       "      <th>balance</th>\n",
       "      <th>numofproducts</th>\n",
       "      <th>hascrcard</th>\n",
       "      <th>isactivemember</th>\n",
       "      <th>estimatedsalary</th>\n",
       "      <th>exited</th>\n",
       "    </tr>\n",
       "  </thead>\n",
       "  <tbody>\n",
       "    <tr>\n",
       "      <th>0</th>\n",
       "      <td>619</td>\n",
       "      <td>France</td>\n",
       "      <td>Female</td>\n",
       "      <td>42</td>\n",
       "      <td>2.0</td>\n",
       "      <td>0.00</td>\n",
       "      <td>1</td>\n",
       "      <td>1</td>\n",
       "      <td>1</td>\n",
       "      <td>101348.88</td>\n",
       "      <td>1</td>\n",
       "    </tr>\n",
       "    <tr>\n",
       "      <th>1</th>\n",
       "      <td>608</td>\n",
       "      <td>Spain</td>\n",
       "      <td>Female</td>\n",
       "      <td>41</td>\n",
       "      <td>1.0</td>\n",
       "      <td>83807.86</td>\n",
       "      <td>1</td>\n",
       "      <td>0</td>\n",
       "      <td>1</td>\n",
       "      <td>112542.58</td>\n",
       "      <td>0</td>\n",
       "    </tr>\n",
       "    <tr>\n",
       "      <th>2</th>\n",
       "      <td>502</td>\n",
       "      <td>France</td>\n",
       "      <td>Female</td>\n",
       "      <td>42</td>\n",
       "      <td>8.0</td>\n",
       "      <td>159660.80</td>\n",
       "      <td>3</td>\n",
       "      <td>1</td>\n",
       "      <td>0</td>\n",
       "      <td>113931.57</td>\n",
       "      <td>1</td>\n",
       "    </tr>\n",
       "    <tr>\n",
       "      <th>3</th>\n",
       "      <td>699</td>\n",
       "      <td>France</td>\n",
       "      <td>Female</td>\n",
       "      <td>39</td>\n",
       "      <td>1.0</td>\n",
       "      <td>0.00</td>\n",
       "      <td>2</td>\n",
       "      <td>0</td>\n",
       "      <td>0</td>\n",
       "      <td>93826.63</td>\n",
       "      <td>0</td>\n",
       "    </tr>\n",
       "    <tr>\n",
       "      <th>4</th>\n",
       "      <td>850</td>\n",
       "      <td>Spain</td>\n",
       "      <td>Female</td>\n",
       "      <td>43</td>\n",
       "      <td>2.0</td>\n",
       "      <td>125510.82</td>\n",
       "      <td>1</td>\n",
       "      <td>1</td>\n",
       "      <td>1</td>\n",
       "      <td>79084.10</td>\n",
       "      <td>0</td>\n",
       "    </tr>\n",
       "  </tbody>\n",
       "</table>\n",
       "</div>"
      ],
      "text/plain": [
       "   creditscore geography  gender  age  tenure    balance  numofproducts  \\\n",
       "0          619    France  Female   42     2.0       0.00              1   \n",
       "1          608     Spain  Female   41     1.0   83807.86              1   \n",
       "2          502    France  Female   42     8.0  159660.80              3   \n",
       "3          699    France  Female   39     1.0       0.00              2   \n",
       "4          850     Spain  Female   43     2.0  125510.82              1   \n",
       "\n",
       "   hascrcard  isactivemember  estimatedsalary  exited  \n",
       "0          1               1        101348.88       1  \n",
       "1          0               1        112542.58       0  \n",
       "2          1               0        113931.57       1  \n",
       "3          0               0         93826.63       0  \n",
       "4          1               1         79084.10       0  "
      ]
     },
     "execution_count": 9,
     "metadata": {},
     "output_type": "execute_result"
    }
   ],
   "source": [
    "data2.head()"
   ]
  },
  {
   "cell_type": "code",
   "execution_count": 10,
   "metadata": {},
   "outputs": [
    {
     "data": {
      "image/png": "[encoded data removed]",
      "text/plain": [
       "<Figure size 648x648 with 81 Axes>"
      ]
     },
     "metadata": {
      "needs_background": "light"
     },
     "output_type": "display_data"
    }
   ],
   "source": [
    "pd.plotting.scatter_matrix(data2, figsize=(9, 9));"
   ]
  },
  {
   "cell_type": "markdown",
   "metadata": {},
   "source": [
    "Значимых выбросов не видно."
   ]
  },
  {
   "cell_type": "code",
   "execution_count": 11,
   "metadata": {},
   "outputs": [
    {
     "data": {
      "text/plain": [
       "<AxesSubplot:>"
      ]
     },
     "execution_count": 11,
     "metadata": {},
     "output_type": "execute_result"
    },
    {
     "data": {
      "image/png": "[encoded data removed]",
      "text/plain": [
       "<Figure size 432x288 with 1 Axes>"
      ]
     },
     "metadata": {
      "needs_background": "light"
     },
     "output_type": "display_data"
    }
   ],
   "source": [
    "#for x in ['creditscore', 'age', 'tenure', 'balance', 'numofproducts', 'estimatedsalary']:\n",
    " #   data2.boxplot(column=x)\n",
    "data2.boxplot(column='creditscore')"
   ]
  },
  {
   "cell_type": "code",
   "execution_count": 12,
   "metadata": {},
   "outputs": [
    {
     "data": {
      "text/plain": [
       "<AxesSubplot:>"
      ]
     },
     "execution_count": 12,
     "metadata": {},
     "output_type": "execute_result"
    },
    {
     "data": {
      "image/png": "[encoded data removed]",
      "text/plain": [
       "<Figure size 432x288 with 1 Axes>"
      ]
     },
     "metadata": {
      "needs_background": "light"
     },
     "output_type": "display_data"
    }
   ],
   "source": [
    "data2.boxplot(column='age')"
   ]
  },
  {
   "cell_type": "code",
   "execution_count": 13,
   "metadata": {},
   "outputs": [
    {
     "data": {
      "text/plain": [
       "<AxesSubplot:>"
      ]
     },
     "execution_count": 13,
     "metadata": {},
     "output_type": "execute_result"
    },
    {
     "data": {
      "image/png": "[encoded data removed]",
      "text/plain": [
       "<Figure size 432x288 with 1 Axes>"
      ]
     },
     "metadata": {
      "needs_background": "light"
     },
     "output_type": "display_data"
    }
   ],
   "source": [
    "data2.boxplot(column='balance')"
   ]
  },
  {
   "cell_type": "code",
   "execution_count": 14,
   "metadata": {},
   "outputs": [
    {
     "data": {
      "text/plain": [
       "<AxesSubplot:>"
      ]
     },
     "execution_count": 14,
     "metadata": {},
     "output_type": "execute_result"
    },
    {
     "data": {
      "image/png": "[encoded data removed]",
      "text/plain": [
       "<Figure size 432x288 with 1 Axes>"
      ]
     },
     "metadata": {
      "needs_background": "light"
     },
     "output_type": "display_data"
    }
   ],
   "source": [
    "data2.boxplot(column='estimatedsalary')"
   ]
  },
  {
   "cell_type": "markdown",
   "metadata": {},
   "source": [
    "Распределение данных в численных колонках логично и не имеет резко выраженных искажений."
   ]
  },
  {
   "cell_type": "markdown",
   "metadata": {},
   "source": [
    "### Подготовка данных для исследования"
   ]
  },
  {
   "cell_type": "code",
   "execution_count": 15,
   "metadata": {},
   "outputs": [],
   "source": [
    "target = data2['exited']\n",
    "features = data2.drop('exited', axis=1)"
   ]
  },
  {
   "cell_type": "markdown",
   "metadata": {},
   "source": [
    "Разделение датасета на целевой показатель и признаки."
   ]
  },
  {
   "cell_type": "code",
   "execution_count": 16,
   "metadata": {},
   "outputs": [],
   "source": [
    "features_mid, features_test, target_mid, target_test = train_test_split(\n",
    "    features, target, test_size=0.2, random_state=777)"
   ]
  },
  {
   "cell_type": "markdown",
   "metadata": {},
   "source": [
    "Выделение тестовой части датасета."
   ]
  },
  {
   "cell_type": "code",
   "execution_count": 17,
   "metadata": {},
   "outputs": [],
   "source": [
    "features_train, features_valid, target_train, target_valid = train_test_split(\n",
    "    features_mid, target_mid, test_size=0.25, random_state=777)"
   ]
  },
  {
   "cell_type": "markdown",
   "metadata": {},
   "source": [
    "Выделение тренировочной и валидационной частей датасета."
   ]
  },
  {
   "cell_type": "code",
   "execution_count": 18,
   "metadata": {},
   "outputs": [],
   "source": [
    "features_train = pd.get_dummies(features_train, drop_first=True)\n",
    "features_valid = pd.get_dummies(features_valid, drop_first=True)\n",
    "features_test = pd.get_dummies(features_test, drop_first=True)"
   ]
  },
  {
   "cell_type": "markdown",
   "metadata": {},
   "source": [
    "Для правильного чтения данных алгоритмами машинного обучения необходимо перевести категориальные признаки в числовые. Для этого будет использована техника прямого кодирования ОНЕ."
   ]
  },
  {
   "cell_type": "code",
   "execution_count": 19,
   "metadata": {},
   "outputs": [
    {
     "name": "stdout",
     "output_type": "stream",
     "text": [
      "(2000, 11)\n",
      "(2000, 11)\n",
      "(6000, 11)\n",
      "(2000,)\n",
      "(2000,)\n",
      "(6000,)\n"
     ]
    }
   ],
   "source": [
    "print(features_test.shape)\n",
    "print(features_valid.shape)\n",
    "print(features_train.shape)\n",
    "print(target_test.shape)\n",
    "print(target_valid.shape)\n",
    "print(target_train.shape)"
   ]
  },
  {
   "cell_type": "markdown",
   "metadata": {},
   "source": [
    "Проверка масштабов поделенного датасета."
   ]
  },
  {
   "cell_type": "code",
   "execution_count": 20,
   "metadata": {},
   "outputs": [],
   "source": [
    "numeric = ['creditscore', 'age', 'tenure', 'balance', 'numofproducts', 'estimatedsalary']\n",
    "\n",
    "scaler = StandardScaler()\n",
    "pd.options.mode.chained_assignment = None\n",
    "scaler.fit(features_train[numeric]) \n",
    "\n",
    "features_train[numeric] = scaler.transform(features_train[numeric])\n",
    "features_valid[numeric] = scaler.transform(features_valid[numeric])\n",
    "features_test[numeric] = scaler.transform(features_test[numeric])"
   ]
  },
  {
   "cell_type": "markdown",
   "metadata": {},
   "source": [
    "Масштабирование числовых признаков датасета отличных от 1 / 0."
   ]
  },
  {
   "cell_type": "code",
   "execution_count": 21,
   "metadata": {},
   "outputs": [
    {
     "data": {
      "text/html": [
       "<div>\n",
       "<style scoped>\n",
       "    .dataframe tbody tr th:only-of-type {\n",
       "        vertical-align: middle;\n",
       "    }\n",
       "\n",
       "    .dataframe tbody tr th {\n",
       "        vertical-align: top;\n",
       "    }\n",
       "\n",
       "    .dataframe thead th {\n",
       "        text-align: right;\n",
       "    }\n",
       "</style>\n",
       "<table border=\"1\" class=\"dataframe\">\n",
       "  <thead>\n",
       "    <tr style=\"text-align: right;\">\n",
       "      <th></th>\n",
       "      <th>creditscore</th>\n",
       "      <th>age</th>\n",
       "      <th>tenure</th>\n",
       "      <th>balance</th>\n",
       "      <th>numofproducts</th>\n",
       "      <th>hascrcard</th>\n",
       "      <th>isactivemember</th>\n",
       "      <th>estimatedsalary</th>\n",
       "      <th>geography_Germany</th>\n",
       "      <th>geography_Spain</th>\n",
       "      <th>gender_Male</th>\n",
       "    </tr>\n",
       "  </thead>\n",
       "  <tbody>\n",
       "    <tr>\n",
       "      <th>1168</th>\n",
       "      <td>-0.450594</td>\n",
       "      <td>-1.146829</td>\n",
       "      <td>-0.824403</td>\n",
       "      <td>-1.209480</td>\n",
       "      <td>0.808590</td>\n",
       "      <td>1</td>\n",
       "      <td>0</td>\n",
       "      <td>-0.637921</td>\n",
       "      <td>0</td>\n",
       "      <td>0</td>\n",
       "      <td>0</td>\n",
       "    </tr>\n",
       "    <tr>\n",
       "      <th>2566</th>\n",
       "      <td>0.099077</td>\n",
       "      <td>-0.957513</td>\n",
       "      <td>0.461216</td>\n",
       "      <td>1.669275</td>\n",
       "      <td>-0.921014</td>\n",
       "      <td>1</td>\n",
       "      <td>1</td>\n",
       "      <td>0.408356</td>\n",
       "      <td>1</td>\n",
       "      <td>0</td>\n",
       "      <td>0</td>\n",
       "    </tr>\n",
       "    <tr>\n",
       "      <th>2629</th>\n",
       "      <td>1.219163</td>\n",
       "      <td>0.273041</td>\n",
       "      <td>-0.502999</td>\n",
       "      <td>-1.209480</td>\n",
       "      <td>-0.921014</td>\n",
       "      <td>0</td>\n",
       "      <td>0</td>\n",
       "      <td>1.056570</td>\n",
       "      <td>0</td>\n",
       "      <td>1</td>\n",
       "      <td>0</td>\n",
       "    </tr>\n",
       "    <tr>\n",
       "      <th>1302</th>\n",
       "      <td>-2.307032</td>\n",
       "      <td>-0.768197</td>\n",
       "      <td>-1.467213</td>\n",
       "      <td>-1.209480</td>\n",
       "      <td>0.808590</td>\n",
       "      <td>1</td>\n",
       "      <td>0</td>\n",
       "      <td>-0.794086</td>\n",
       "      <td>0</td>\n",
       "      <td>0</td>\n",
       "      <td>0</td>\n",
       "    </tr>\n",
       "    <tr>\n",
       "      <th>4342</th>\n",
       "      <td>-1.000266</td>\n",
       "      <td>-0.862855</td>\n",
       "      <td>0.461216</td>\n",
       "      <td>0.949266</td>\n",
       "      <td>-0.921014</td>\n",
       "      <td>1</td>\n",
       "      <td>1</td>\n",
       "      <td>1.376340</td>\n",
       "      <td>0</td>\n",
       "      <td>1</td>\n",
       "      <td>1</td>\n",
       "    </tr>\n",
       "  </tbody>\n",
       "</table>\n",
       "</div>"
      ],
      "text/plain": [
       "      creditscore       age    tenure   balance  numofproducts  hascrcard  \\\n",
       "1168    -0.450594 -1.146829 -0.824403 -1.209480       0.808590          1   \n",
       "2566     0.099077 -0.957513  0.461216  1.669275      -0.921014          1   \n",
       "2629     1.219163  0.273041 -0.502999 -1.209480      -0.921014          0   \n",
       "1302    -2.307032 -0.768197 -1.467213 -1.209480       0.808590          1   \n",
       "4342    -1.000266 -0.862855  0.461216  0.949266      -0.921014          1   \n",
       "\n",
       "      isactivemember  estimatedsalary  geography_Germany  geography_Spain  \\\n",
       "1168               0        -0.637921                  0                0   \n",
       "2566               1         0.408356                  1                0   \n",
       "2629               0         1.056570                  0                1   \n",
       "1302               0        -0.794086                  0                0   \n",
       "4342               1         1.376340                  0                1   \n",
       "\n",
       "      gender_Male  \n",
       "1168            0  \n",
       "2566            0  \n",
       "2629            0  \n",
       "1302            0  \n",
       "4342            1  "
      ]
     },
     "metadata": {},
     "output_type": "display_data"
    }
   ],
   "source": [
    "display(features_train.head())"
   ]
  },
  {
   "cell_type": "markdown",
   "metadata": {},
   "source": [
    "### Выводы"
   ]
  },
  {
   "cell_type": "markdown",
   "metadata": {},
   "source": [
    "На первом этапе проекта была проведена чистка данных и подготовка выборок для обучения, валидации и тестирования модели.\n",
    "\n",
    "При чистке данных было обнаружено незначительное количество пропусков в данных, которые были заполнены. Колонки с фамилией пользователя, номером строки и ИД пользователя были отброшены как несущественные для классификационного алгоритма.\n",
    "\n",
    "Для правильно чтения данных алгоритмами машинного обучения была применена техника прямого кодирования для трансформации категориальных признаков в числовые значения. Масштабирование числовых колонок также позволило подготовить данные для полноценного обучения алгоритмов."
   ]
  },
  {
   "cell_type": "markdown",
   "metadata": {},
   "source": [
    "## Исследование задачи"
   ]
  },
  {
   "cell_type": "markdown",
   "metadata": {},
   "source": [
    "### Целевой признак"
   ]
  },
  {
   "cell_type": "markdown",
   "metadata": {},
   "source": [
    "Перед началом исследования, посмотрим на баланс целевого признака в предобработанном датасете."
   ]
  },
  {
   "cell_type": "code",
   "execution_count": 22,
   "metadata": {},
   "outputs": [
    {
     "data": {
      "text/plain": [
       "0    7963\n",
       "1    2037\n",
       "Name: exited, dtype: int64"
      ]
     },
     "execution_count": 22,
     "metadata": {},
     "output_type": "execute_result"
    }
   ],
   "source": [
    "data2['exited'].value_counts()"
   ]
  },
  {
   "cell_type": "markdown",
   "metadata": {},
   "source": [
    "Факт ухода встречается в 4 раза реже, чем оставшийся с банком клиент. В целом, конечно, хорошо что уходят меньше клиентов, чем остаются, но то, что уходит каждый четвертый, явно намекает на наличие проблемы, и фокус исключительно на удержании клиентов может быть не полностью верным со стратегической точки зрения. Явно есть необходимость более глубокого исследования проблемы для отдела макретинга.\n",
    "\n",
    "Возвращаясь к задаче исследования, сначала проведем анализ моделей без учета дисбаланса классов."
   ]
  },
  {
   "cell_type": "markdown",
   "metadata": {},
   "source": [
    "### Decision Tree"
   ]
  },
  {
   "cell_type": "code",
   "execution_count": 23,
   "metadata": {},
   "outputs": [
    {
     "name": "stdout",
     "output_type": "stream",
     "text": [
      "F1_score_Tree лучшей модели: 0.5820256776034236 Глубина дерева 8\n",
      "[[1503   71]\n",
      " [ 222  204]]\n"
     ]
    }
   ],
   "source": [
    "best_result_tree = 0\n",
    "best_depth_tree = 0\n",
    "best_predicted_tree = None\n",
    "\n",
    "for x in range(1, 16, 1):\n",
    "    model = DecisionTreeClassifier(random_state=777, max_depth=x)\n",
    "    model.fit(features_train, target_train)\n",
    "    predicted_valid = model.predict(features_valid)\n",
    "    result = f1_score(target_valid, predicted_valid)\n",
    "    if result > best_result_tree:\n",
    "        best_result_tree = result\n",
    "        best_depth_tree = x\n",
    "        best_predicted_tree = predicted_valid\n",
    "\n",
    "print('F1_score_Tree лучшей модели:', best_result_tree, 'Глубина дерева', best_depth_tree)\n",
    "print(confusion_matrix(target_valid, best_predicted_tree))"
   ]
  },
  {
   "cell_type": "markdown",
   "metadata": {},
   "source": [
    "Цикл подбора глубины дерева показал лучшую глубину 8 и значение Ф1 0,58, что неплохо, но все же далеко от идеала."
   ]
  },
  {
   "cell_type": "markdown",
   "metadata": {},
   "source": [
    "### Logistic Regression"
   ]
  },
  {
   "cell_type": "code",
   "execution_count": 24,
   "metadata": {},
   "outputs": [
    {
     "name": "stdout",
     "output_type": "stream",
     "text": [
      "F1_score_Log: 0.31785714285714284\n",
      "[[1529   45]\n",
      " [ 337   89]]\n"
     ]
    }
   ],
   "source": [
    "model = LogisticRegression(random_state=777, solver='liblinear', max_iter=500)\n",
    "model.fit(features_train, target_train)\n",
    "predicted_valid_log = model.predict(features_valid)\n",
    "\n",
    "print('F1_score_Log:', f1_score(target_valid, predicted_valid_log))\n",
    "print(confusion_matrix(target_valid, predicted_valid_log))"
   ]
  },
  {
   "cell_type": "markdown",
   "metadata": {},
   "source": [
    "Логистическая регрессия показала низкий результат Ф1 меры 0,32."
   ]
  },
  {
   "cell_type": "markdown",
   "metadata": {},
   "source": [
    "### Random Forest"
   ]
  },
  {
   "cell_type": "code",
   "execution_count": 25,
   "metadata": {},
   "outputs": [
    {
     "name": "stdout",
     "output_type": "stream",
     "text": [
      "F1_score_Random_1 лучшей модели: 0.5885797950219619 Глубина леса 15 Количество деревьев 60\n",
      "[[1518   56]\n",
      " [ 225  201]]\n"
     ]
    }
   ],
   "source": [
    "best_result_random_1 = 0\n",
    "best_depth_random_1 = 0\n",
    "best_est_random_1 = 0\n",
    "best_predicted_random_1 = None\n",
    "\n",
    "for est in range (10, 101, 5):\n",
    "    for depth in range(1, 16, 1):\n",
    "        model = RandomForestClassifier(random_state=777, n_estimators=est, max_depth=depth)\n",
    "        model.fit(features_train, target_train)\n",
    "        predicted_valid = model.predict(features_valid)\n",
    "        result = f1_score(target_valid, predicted_valid)\n",
    "        if result > best_result_random_1:\n",
    "            best_result_random_1 = result\n",
    "            best_est_random_1 = est\n",
    "            best_depth_random_1 = depth\n",
    "            best_predicted_random_1 = predicted_valid\n",
    "            \n",
    "print('F1_score_Random_1 лучшей модели:', best_result_random_1, 'Глубина леса', best_depth_random_1, 'Количество деревьев', best_est_random_1)\n",
    "print(confusion_matrix(target_valid, best_predicted_random_1))"
   ]
  },
  {
   "cell_type": "markdown",
   "metadata": {},
   "source": [
    "Random Forest показал лучший результат Ф1 0,59 при глубине леса в 15 и количестве деверьев в 60."
   ]
  },
  {
   "cell_type": "code",
   "execution_count": 26,
   "metadata": {},
   "outputs": [
    {
     "name": "stdout",
     "output_type": "stream",
     "text": [
      "F1_score_Random лучшей модели: 0.5768667642752563 Глубина леса 14\n"
     ]
    }
   ],
   "source": [
    "best_result_random_2 = 0\n",
    "best_depth_random_2 = 0\n",
    "\n",
    "for depth in range(1, 16, 1):\n",
    "    model = RandomForestClassifier(random_state=777, n_estimators=20, max_depth=depth)\n",
    "    model.fit(features_train, target_train)\n",
    "    predicted_valid = model.predict(features_valid)\n",
    "    result = f1_score(target_valid, predicted_valid)\n",
    "    if result > best_result_random_2:\n",
    "        best_result_random_2 = result\n",
    "        best_depth_random_2 = depth\n",
    "                    \n",
    "print('F1_score_Random лучшей модели:', best_result_random_2, 'Глубина леса', best_depth_random_2)"
   ]
  },
  {
   "cell_type": "code",
   "execution_count": 27,
   "metadata": {},
   "outputs": [
    {
     "name": "stdout",
     "output_type": "stream",
     "text": [
      "F1_score_Random_2 лучшей модели: 0.5822416302765648 Глубина леса 14 Количество деревьев 80\n",
      "[[1513   61]\n",
      " [ 226  200]]\n"
     ]
    }
   ],
   "source": [
    "best_result_random_2 = 0\n",
    "best_est_random_2 = 0\n",
    "best_predicted_random_2 = None\n",
    "\n",
    "for est in range (10, 101, 5):\n",
    "    model = RandomForestClassifier(random_state=777, n_estimators=est, max_depth=best_depth_random_2)\n",
    "    model.fit(features_train, target_train)\n",
    "    predicted_valid = model.predict(features_valid)\n",
    "    result = f1_score(target_valid, predicted_valid)\n",
    "    if result > best_result_random_2:\n",
    "        best_result_random_2 = result\n",
    "        best_est_random_2 = est\n",
    "        best_predicted_random_2 = predicted_valid\n",
    "        \n",
    "print('F1_score_Random_2 лучшей модели:', best_result_random_2, 'Глубина леса', best_depth_random_2, 'Количество деревьев', best_est_random_2)\n",
    "print(confusion_matrix(target_valid, best_predicted_random_2))"
   ]
  },
  {
   "cell_type": "markdown",
   "metadata": {},
   "source": [
    "### Проверка моделей на адекватность"
   ]
  },
  {
   "cell_type": "markdown",
   "metadata": {},
   "source": [
    "Сравним предсказания моделей с константой, предположим что все клиенты уходят."
   ]
  },
  {
   "cell_type": "code",
   "execution_count": 28,
   "metadata": {},
   "outputs": [
    {
     "name": "stdout",
     "output_type": "stream",
     "text": [
      "F1_score_Constant: 0.35119538334707334\n",
      "[[   0 1574]\n",
      " [   0  426]]\n"
     ]
    }
   ],
   "source": [
    "predicted_constant = pd.Series(1, index=[x for x in range(len(target_valid))])\n",
    "print('F1_score_Constant:', f1_score(target_valid, predicted_constant))\n",
    "print(confusion_matrix(target_valid, predicted_constant))"
   ]
  },
  {
   "cell_type": "code",
   "execution_count": 29,
   "metadata": {},
   "outputs": [
    {
     "name": "stdout",
     "output_type": "stream",
     "text": [
      "F1_score_Tree: 0.5820256776034236\n",
      "F1_score_Log: 0.31785714285714284\n",
      "F1_score_Random_1: 0.5885797950219619\n",
      "F1_score_Random_2: 0.5822416302765648\n",
      "F1_score_Constant: 0.35119538334707334\n"
     ]
    }
   ],
   "source": [
    "print('F1_score_Tree:', best_result_tree)\n",
    "print('F1_score_Log:', f1_score(target_valid, predicted_valid_log))\n",
    "print('F1_score_Random_1:', best_result_random_1)\n",
    "print('F1_score_Random_2:', best_result_random_2)\n",
    "print('F1_score_Constant:', f1_score(target_valid, predicted_constant))"
   ]
  },
  {
   "cell_type": "markdown",
   "metadata": {},
   "source": [
    "Лучший результат показал Random Forest, на втором месте с небольшим отставанием Decision Tree, а Logistic Regression показала результат хуже, чем константа.\n",
    "\n",
    "Интересно посмотреть на результаты моделей после работы с дисбалансом данных."
   ]
  },
  {
   "cell_type": "markdown",
   "metadata": {},
   "source": [
    "### Выводы"
   ]
  },
  {
   "cell_type": "markdown",
   "metadata": {},
   "source": [
    "На втором этапе было проведено обучение алгоритмов без устранения дисбаланса данных. Уходящих клиентов в 4 раза меньше тех, что остаются.\n",
    "\n",
    "Анализ поведения обученных моделей на валидационной выборке показал, что Random Forest и Decision Tree показывают лучшие результаты Ф1 меры. В то время как Logistic Regression показывает результат Ф1 меры близкий к константной модели.\n",
    "\n",
    "На данном этапе выбор модели преждевременен и необходимо устранить дисбаланс в данных, хотя две модели Random Forest и Decision Tree показывают результат Ф1 меры близкий к целевому в 0,59."
   ]
  },
  {
   "cell_type": "markdown",
   "metadata": {},
   "source": [
    "## Борьба с дисбалансом"
   ]
  },
  {
   "cell_type": "markdown",
   "metadata": {},
   "source": [
    "Для преодоления дисбаланса классов используем несколько методов: upsampling, балансирование весов классов, а также взглянем на пороги классификации."
   ]
  },
  {
   "cell_type": "markdown",
   "metadata": {},
   "source": [
    "### Upsampling"
   ]
  },
  {
   "cell_type": "code",
   "execution_count": 30,
   "metadata": {},
   "outputs": [],
   "source": [
    "def upsample(features, target, repeat):\n",
    "    features_zeros = features[target == 0]\n",
    "    features_ones = features[target == 1]\n",
    "    target_zeros = target[target == 0]\n",
    "    target_ones = target[target == 1]\n",
    "    \n",
    "    features_up = pd.concat([features_zeros] + [features_ones] * repeat)\n",
    "    target_up = pd.concat([target_zeros] + [target_ones] * repeat)\n",
    "    \n",
    "    features_up, target_up = shuffle(features_up, target_up, random_state=777)\n",
    "    return features_up, target_up"
   ]
  },
  {
   "cell_type": "markdown",
   "metadata": {},
   "source": [
    "Создана функция, которая поможет увеличить количество позитивных ответов в выборке и перемешает их случайным образом."
   ]
  },
  {
   "cell_type": "code",
   "execution_count": 31,
   "metadata": {},
   "outputs": [],
   "source": [
    "features_train_up, target_train_up = upsample(features_train, target_train, 3)"
   ]
  },
  {
   "cell_type": "markdown",
   "metadata": {},
   "source": [
    "Трансформация выборки с помощью функции Upsample"
   ]
  },
  {
   "cell_type": "markdown",
   "metadata": {},
   "source": [
    "### Алгоритмы на обновленных данных"
   ]
  },
  {
   "cell_type": "markdown",
   "metadata": {},
   "source": [
    "Проведем обучение алгоритмов на трансформированной тренировочной выборке и зададим сбалансированный вес классов в каждой модели"
   ]
  },
  {
   "cell_type": "markdown",
   "metadata": {},
   "source": [
    "#### Decision Tree"
   ]
  },
  {
   "cell_type": "code",
   "execution_count": 32,
   "metadata": {},
   "outputs": [
    {
     "name": "stdout",
     "output_type": "stream",
     "text": [
      "F1_score_Tree лучшей модели: 0.5805243445692884 Глубина дерева 5\n",
      "[[1242  332]\n",
      " [ 116  310]]\n"
     ]
    }
   ],
   "source": [
    "best_result_tree_no_dis = 0\n",
    "best_depth_tree_no_dis = 0\n",
    "best_predicted_tree_no_dis = None\n",
    "\n",
    "for x in range(1, 16, 2):\n",
    "    model = DecisionTreeClassifier(random_state=777, max_depth=x, class_weight='balanced')\n",
    "    model.fit(features_train_up, target_train_up)\n",
    "    predicted_valid = model.predict(features_valid)\n",
    "    result = f1_score(target_valid, predicted_valid)\n",
    "    if result > best_result_tree_no_dis:\n",
    "        best_result_tree_no_dis = result\n",
    "        best_depth_tree_no_dis = x\n",
    "        best_predicted_tree_no_dis = predicted_valid\n",
    "\n",
    "print('F1_score_Tree лучшей модели:', best_result_tree_no_dis, 'Глубина дерева', best_depth_tree_no_dis)\n",
    "print(confusion_matrix(target_valid, best_predicted_tree_no_dis))"
   ]
  },
  {
   "cell_type": "markdown",
   "metadata": {},
   "source": [
    "Decision Tree показал примерно такой же результат, как и на выборке без трансформации, Ф1 0,58."
   ]
  },
  {
   "cell_type": "markdown",
   "metadata": {},
   "source": [
    "#### Logistic Regression"
   ]
  },
  {
   "cell_type": "code",
   "execution_count": 33,
   "metadata": {},
   "outputs": [
    {
     "name": "stdout",
     "output_type": "stream",
     "text": [
      "F1_score_Log: 0.5031111111111111\n",
      "[[1158  416]\n",
      " [ 143  283]]\n"
     ]
    }
   ],
   "source": [
    "model = LogisticRegression(random_state=777, solver='liblinear', max_iter=1000, class_weight='balanced')\n",
    "model.fit(features_train_up, target_train_up)\n",
    "predicted_valid_log_no_dis = model.predict(features_valid)\n",
    "\n",
    "print('F1_score_Log:', f1_score(target_valid, predicted_valid_log_no_dis))\n",
    "print(confusion_matrix(target_valid, predicted_valid_log_no_dis))"
   ]
  },
  {
   "cell_type": "markdown",
   "metadata": {},
   "source": [
    "Logistic Regression показала значительно лучший результат на трансформированных данных: 0,5 против 0,32."
   ]
  },
  {
   "cell_type": "markdown",
   "metadata": {},
   "source": [
    "#### Random Forest"
   ]
  },
  {
   "cell_type": "code",
   "execution_count": 34,
   "metadata": {},
   "outputs": [
    {
     "name": "stdout",
     "output_type": "stream",
     "text": [
      "F1_score_Random_1 лучшей модели: 0.6266968325791855 Глубина леса 11 Количество деревьев 60\n",
      "[[1393  181]\n",
      " [ 149  277]]\n"
     ]
    }
   ],
   "source": [
    "best_result_random_1_no_dis = 0\n",
    "best_depth_random_1_no_dis = 0\n",
    "best_est_random_1_no_dis = 0\n",
    "best_predicted_random_1_no_dis = None\n",
    "\n",
    "for est in range (11, 101, 10):\n",
    "    for depth in range(1, 16, 1):\n",
    "        model = RandomForestClassifier(random_state=777, n_estimators=est, max_depth=depth, class_weight='balanced')\n",
    "        model.fit(features_train_up, target_train_up)\n",
    "        predicted_valid_random_1_no_dis = model.predict(features_valid)\n",
    "        result_random_1_no_dis = f1_score(target_valid, predicted_valid_random_1_no_dis)\n",
    "        if result_random_1_no_dis > best_result_random_1_no_dis:\n",
    "            best_result_random_1_no_dis = result_random_1_no_dis\n",
    "            best_est_random_1_no_dis = est\n",
    "            best_depth_random_1_no_dis = depth\n",
    "            best_predicted_random_1_no_dis = predicted_valid_random_1_no_dis\n",
    "            \n",
    "print('F1_score_Random_1 лучшей модели:', best_result_random_1_no_dis, 'Глубина леса', best_depth_random_1_no_dis, 'Количество деревьев', best_est_random_1_no_dis)\n",
    "print(confusion_matrix(target_valid, best_predicted_random_1_no_dis))"
   ]
  },
  {
   "cell_type": "markdown",
   "metadata": {},
   "source": [
    "Random Forest показывает лучший результат из всех моделей - 0,63. Эта модель будет выбрана для проверки на тестовой выборке."
   ]
  },
  {
   "cell_type": "markdown",
   "metadata": {},
   "source": [
    "### Изменение порога"
   ]
  },
  {
   "cell_type": "code",
   "execution_count": 35,
   "metadata": {},
   "outputs": [
    {
     "name": "stdout",
     "output_type": "stream",
     "text": [
      "Threshold 0.4 F1 0.6042065009560229\n",
      "Threshold 0.42000000000000004 F1 0.6069651741293532\n",
      "Threshold 0.44000000000000006 F1 0.6096807415036045\n",
      "Threshold 0.4600000000000001 F1 0.6148936170212765\n",
      "Threshold 0.4800000000000001 F1 0.6215921483097055\n",
      "Threshold 0.5000000000000001 F1 0.6266968325791855\n",
      "Threshold 0.5200000000000001 F1 0.6223776223776224\n",
      "Threshold 0.5400000000000001 F1 0.6190476190476191\n",
      "Threshold 0.5600000000000002 F1 0.6078431372549019\n",
      "Threshold 0.5800000000000002 F1 0.5947302383939774\n"
     ]
    }
   ],
   "source": [
    "model = RandomForestClassifier(random_state=777, n_estimators=60, max_depth=11, class_weight='balanced')\n",
    "model.fit(features_train_up, target_train_up)\n",
    "probabilities_valid = model.predict_proba(features_valid)\n",
    "probabilities_one_valid = probabilities_valid[:, 1]\n",
    "\n",
    "for threshold in np.arange(0.4, 0.6, 0.02):\n",
    "    predicted_valid = probabilities_one_valid > threshold\n",
    "    f1 = f1_score(target_valid, predicted_valid)\n",
    "    print('Threshold', threshold, 'F1', f1)"
   ]
  },
  {
   "cell_type": "markdown",
   "metadata": {},
   "source": [
    "Перебор параметров подтвердил максимизацию Ф1 меры."
   ]
  },
  {
   "cell_type": "markdown",
   "metadata": {},
   "source": [
    "### AUC_ROC"
   ]
  },
  {
   "cell_type": "code",
   "execution_count": 36,
   "metadata": {},
   "outputs": [
    {
     "data": {
      "image/png": "[encoded data removed]",
      "text/plain": [
       "<Figure size 432x288 with 1 Axes>"
      ]
     },
     "metadata": {
      "needs_background": "light"
     },
     "output_type": "display_data"
    },
    {
     "name": "stdout",
     "output_type": "stream",
     "text": [
      "AUC_ROC: 0.848722789937422\n"
     ]
    }
   ],
   "source": [
    "fpr, tpr, thresholds = roc_curve(target_valid, probabilities_one_valid)\n",
    "\n",
    "plt.figure()\n",
    "\n",
    "plt.plot(fpr, tpr)\n",
    "plt.plot([0, 1], [0, 1], linestyle='--')\n",
    "plt.xlim([0.0, 1.0])\n",
    "plt.ylim([0.0, 1.0])\n",
    "plt.xlabel('False Positive Rate')\n",
    "plt.ylabel('True Positive Rate')\n",
    "plt.title('ROC-кривая')\n",
    "\n",
    "plt.show()\n",
    "\n",
    "auc_roc = roc_auc_score(target_valid, probabilities_one_valid)\n",
    "print('AUC_ROC:', auc_roc)"
   ]
  },
  {
   "cell_type": "markdown",
   "metadata": {},
   "source": [
    "Площадь под кривой составила 0,85 против 0,5 случайной модели, что говорит о хорошем качестве выбранной модели."
   ]
  },
  {
   "cell_type": "markdown",
   "metadata": {},
   "source": [
    "### Выводы"
   ]
  },
  {
   "cell_type": "markdown",
   "metadata": {},
   "source": [
    "Для преодоления дисбаланса классов было использовано несколько методов: upsampling, балансирование весов классов, наряду с анализом порогов.\n",
    "\n",
    "Измененная тренировочная выборка вместе с параметром веса классов позволили значительно улучшить результаты Logistic Regression, не дали существенного прогресса для Decision Tree и показали улучшение Random Forest. Лучшей моделью выбран Random Forest, показавший Ф1 меру 0,63 на валидационной выборке и AUC_ROC в 0.85."
   ]
  },
  {
   "cell_type": "markdown",
   "metadata": {},
   "source": [
    "## Тестирование модели"
   ]
  },
  {
   "cell_type": "markdown",
   "metadata": {},
   "source": [
    "Для подтверждения стабильности работы модели проведем проверку на тестовой выборке."
   ]
  },
  {
   "cell_type": "markdown",
   "metadata": {},
   "source": [
    "### F1 score"
   ]
  },
  {
   "cell_type": "code",
   "execution_count": 37,
   "metadata": {},
   "outputs": [
    {
     "name": "stdout",
     "output_type": "stream",
     "text": [
      "Ф1 на тестовой выборке составил: 0.6051401869158878\n"
     ]
    }
   ],
   "source": [
    "model = RandomForestClassifier(random_state=777, n_estimators=60, max_depth=11, class_weight='balanced')\n",
    "model.fit(features_train_up, target_train_up)\n",
    "predicted_valid_test = model.predict(features_test)\n",
    "print('Ф1 на тестовой выборке составил:', f1_score(target_test, predicted_valid_test))"
   ]
  },
  {
   "cell_type": "markdown",
   "metadata": {},
   "source": [
    "Ф1 выбранной модели на тестовой выборке незначительно отличается от валидационной выборки, что говорит о стабильности работы выбранной модели. Однако, посмотрим и на AUC_ROC."
   ]
  },
  {
   "cell_type": "markdown",
   "metadata": {},
   "source": [
    "### AUC_ROC"
   ]
  },
  {
   "cell_type": "code",
   "execution_count": 38,
   "metadata": {},
   "outputs": [
    {
     "data": {
      "image/png": "[encoded data removed]",
      "text/plain": [
       "<Figure size 432x288 with 1 Axes>"
      ]
     },
     "metadata": {
      "needs_background": "light"
     },
     "output_type": "display_data"
    },
    {
     "name": "stdout",
     "output_type": "stream",
     "text": [
      "AUC_ROC: 0.8611972170558655\n"
     ]
    }
   ],
   "source": [
    "probabilities_test = model.predict_proba(features_test)\n",
    "probabilities_one_test = probabilities_test[:, 1]\n",
    "\n",
    "fpr, tpr, thresholds = roc_curve(target_test, probabilities_one_test)\n",
    "\n",
    "plt.figure()\n",
    "\n",
    "plt.plot(fpr, tpr)\n",
    "plt.plot([0, 1], [0, 1], linestyle='--')\n",
    "plt.xlim([0.0, 1.0])\n",
    "plt.ylim([0.0, 1.0])\n",
    "plt.xlabel('False Positive Rate')\n",
    "plt.ylabel('True Positive Rate')\n",
    "plt.title('ROC-кривая')\n",
    "\n",
    "plt.show()\n",
    "\n",
    "auc_roc = roc_auc_score(target_test, probabilities_one_test)\n",
    "print('AUC_ROC:', auc_roc)"
   ]
  },
  {
   "cell_type": "markdown",
   "metadata": {},
   "source": [
    "AUC_ROC на тестовой выборке незначительно привысил показатель валидационной выборки, что говорит о стабильности работы модели."
   ]
  },
  {
   "cell_type": "markdown",
   "metadata": {},
   "source": [
    "### Выводы"
   ]
  },
  {
   "cell_type": "markdown",
   "metadata": {},
   "source": [
    "Выбранная модель подтвердила стабильность работы на тестовой выборке и показала стабильные результаты Ф1 меры 0,61 и AUC_ROC 0,86. Что позволяет рекомендовать ее для использования бизнесом."
   ]
  },
  {
   "cell_type": "markdown",
   "metadata": {},
   "source": [
    "## Общие выводы"
   ]
  },
  {
   "cell_type": "markdown",
   "metadata": {},
   "source": [
    "На первом этапе проекта была проведена чистка данных и подготовка выборок для обучения, валидации и тестирования модели. При чистке данных было обнаружено незначительное количество пропусков в данных, которые были заполнены. Для правильно чтения данных алгоритмами машинного обучения была применена техника прямого кодирования для трансформации категориальных признаков в числовые значения. Масштабирование числовых колонок также позволило подготовить данные для полноценного обучения алгоритмов.\n",
    "\n",
    "На этапе исследования задачи было проведено обучение алгоритмов без устранения дисбаланса данных. Уходящих клиентов в 4 раза меньше тех, что остаются. Анализ поведения обученных моделей на валидационной выборке показал, что Random Forest и Decision Tree показывают лучшие результаты Ф1 меры. В то время как Logistic Regression показывает результат Ф1 меры близкий к константной модели.\n",
    "\n",
    "Для преодоления дисбаланса классов было использовано несколько методов: upsampling, балансирование весов классов, наряду с анализом порогов. Измененная тренировочная выборка вместе с параметром веса классов позволили значительно улучшить результаты Logistic Regression, не дали существенного прогресса для Decision Tree и показали улучшение Random Forest. Лучшей моделью выбран Random Forest, показавший Ф1 меру 0,63 на валидационной выборке и AUC_ROC в 0.85.\n",
    "\n",
    "Выбранная модель подтвердила стабильность работы на тестовой выборке и показала стабильные результаты Ф1 меры 0,61 и AUC_ROC 0,86. Что позволяет рекомендовать ее для использования бизнесом.\n",
    "\n",
    "Факт ухода клиентов встречается в 4 раза реже, чем оставшийся с банком клиент. Обращает на себя внимание то, что уходит каждый четвертый клиент, что явно говорит о наличии проблемы более широкой, чем просто фокус на удержании клиентов и разработка соответствующего алгоритма. Со стратегической точки зрения есть необходимость более глубокого исследования проблемы для отдела макретинга."
   ]
  }
 ],
 "metadata": {
  "ExecuteTimeLog": [
   {
    "duration": 1061,
    "start_time": "2022-12-30T11:20:08.807Z"
   },
   {
    "duration": 1378,
    "start_time": "2022-12-30T11:21:11.315Z"
   },
   {
    "duration": 274,
    "start_time": "2022-12-30T11:22:39.360Z"
   },
   {
    "duration": 75,
    "start_time": "2022-12-30T11:25:09.305Z"
   },
   {
    "duration": 18,
    "start_time": "2022-12-30T11:26:44.904Z"
   },
   {
    "duration": 16,
    "start_time": "2022-12-30T11:29:10.310Z"
   },
   {
    "duration": 17,
    "start_time": "2022-12-30T11:33:34.977Z"
   },
   {
    "duration": 7,
    "start_time": "2022-12-30T11:33:41.241Z"
   },
   {
    "duration": 5,
    "start_time": "2022-12-30T11:35:00.255Z"
   },
   {
    "duration": 3,
    "start_time": "2022-12-30T11:37:33.158Z"
   },
   {
    "duration": 9,
    "start_time": "2022-12-30T11:37:35.933Z"
   },
   {
    "duration": 5,
    "start_time": "2022-12-30T11:37:49.581Z"
   },
   {
    "duration": 3,
    "start_time": "2022-12-30T11:38:10.902Z"
   },
   {
    "duration": 8,
    "start_time": "2022-12-30T11:38:27.116Z"
   },
   {
    "duration": 5,
    "start_time": "2022-12-30T11:40:07.859Z"
   },
   {
    "duration": 11,
    "start_time": "2022-12-30T11:40:16.955Z"
   },
   {
    "duration": 10,
    "start_time": "2022-12-30T11:41:21.866Z"
   },
   {
    "duration": 13,
    "start_time": "2022-12-30T11:41:25.866Z"
   },
   {
    "duration": 11,
    "start_time": "2022-12-30T11:41:34.410Z"
   },
   {
    "duration": 6480,
    "start_time": "2022-12-30T11:46:21.436Z"
   },
   {
    "duration": 254,
    "start_time": "2022-12-30T11:50:27.452Z"
   },
   {
    "duration": 4,
    "start_time": "2022-12-30T11:55:29.413Z"
   },
   {
    "duration": 194,
    "start_time": "2022-12-30T11:57:07.496Z"
   },
   {
    "duration": 2,
    "start_time": "2022-12-30T11:57:55.160Z"
   },
   {
    "duration": 224,
    "start_time": "2022-12-30T11:58:10.471Z"
   },
   {
    "duration": 107,
    "start_time": "2022-12-30T11:59:21.094Z"
   },
   {
    "duration": 124,
    "start_time": "2022-12-30T11:59:29.582Z"
   },
   {
    "duration": 91,
    "start_time": "2022-12-30T12:01:12.372Z"
   },
   {
    "duration": 102,
    "start_time": "2022-12-30T12:01:28.364Z"
   },
   {
    "duration": 92,
    "start_time": "2022-12-30T12:01:59.108Z"
   },
   {
    "duration": 106,
    "start_time": "2022-12-30T12:02:13.755Z"
   },
   {
    "duration": 57,
    "start_time": "2022-12-30T12:03:36.602Z"
   },
   {
    "duration": 841,
    "start_time": "2022-12-30T12:07:19.775Z"
   },
   {
    "duration": 1278,
    "start_time": "2022-12-30T12:07:35.154Z"
   },
   {
    "duration": 55,
    "start_time": "2022-12-30T12:07:36.435Z"
   },
   {
    "duration": 3,
    "start_time": "2022-12-30T12:07:36.491Z"
   },
   {
    "duration": 11,
    "start_time": "2022-12-30T12:07:36.495Z"
   },
   {
    "duration": 11,
    "start_time": "2022-12-30T12:07:36.508Z"
   },
   {
    "duration": 21,
    "start_time": "2022-12-30T12:07:36.521Z"
   },
   {
    "duration": 11,
    "start_time": "2022-12-30T12:07:36.544Z"
   },
   {
    "duration": 11,
    "start_time": "2022-12-30T12:07:36.556Z"
   },
   {
    "duration": 29,
    "start_time": "2022-12-30T12:07:36.569Z"
   },
   {
    "duration": 6477,
    "start_time": "2022-12-30T12:07:36.600Z"
   },
   {
    "duration": 110,
    "start_time": "2022-12-30T12:07:43.078Z"
   },
   {
    "duration": 114,
    "start_time": "2022-12-30T12:07:43.189Z"
   },
   {
    "duration": 116,
    "start_time": "2022-12-30T12:07:43.305Z"
   },
   {
    "duration": 126,
    "start_time": "2022-12-30T12:07:43.424Z"
   },
   {
    "duration": 14,
    "start_time": "2022-12-30T12:16:14.960Z"
   },
   {
    "duration": 199,
    "start_time": "2022-12-30T12:17:40.858Z"
   },
   {
    "duration": 10,
    "start_time": "2022-12-30T12:17:50.823Z"
   },
   {
    "duration": 1237,
    "start_time": "2022-12-30T12:20:26.159Z"
   },
   {
    "duration": 55,
    "start_time": "2022-12-30T12:20:27.398Z"
   },
   {
    "duration": 4,
    "start_time": "2022-12-30T12:20:27.454Z"
   },
   {
    "duration": 13,
    "start_time": "2022-12-30T12:20:27.460Z"
   },
   {
    "duration": 13,
    "start_time": "2022-12-30T12:20:27.475Z"
   },
   {
    "duration": 11,
    "start_time": "2022-12-30T12:20:27.491Z"
   },
   {
    "duration": 21,
    "start_time": "2022-12-30T12:20:27.504Z"
   },
   {
    "duration": 4,
    "start_time": "2022-12-30T12:20:27.526Z"
   },
   {
    "duration": 16,
    "start_time": "2022-12-30T12:20:27.531Z"
   },
   {
    "duration": 6236,
    "start_time": "2022-12-30T12:20:27.549Z"
   },
   {
    "duration": 106,
    "start_time": "2022-12-30T12:20:33.787Z"
   },
   {
    "duration": 109,
    "start_time": "2022-12-30T12:20:33.894Z"
   },
   {
    "duration": 106,
    "start_time": "2022-12-30T12:20:34.004Z"
   },
   {
    "duration": 113,
    "start_time": "2022-12-30T12:20:34.121Z"
   },
   {
    "duration": 19,
    "start_time": "2022-12-30T12:20:34.235Z"
   },
   {
    "duration": 1251,
    "start_time": "2022-12-30T12:22:39.748Z"
   },
   {
    "duration": 54,
    "start_time": "2022-12-30T12:22:41.002Z"
   },
   {
    "duration": 4,
    "start_time": "2022-12-30T12:22:41.058Z"
   },
   {
    "duration": 21,
    "start_time": "2022-12-30T12:22:41.064Z"
   },
   {
    "duration": 20,
    "start_time": "2022-12-30T12:22:41.088Z"
   },
   {
    "duration": 12,
    "start_time": "2022-12-30T12:22:41.110Z"
   },
   {
    "duration": 20,
    "start_time": "2022-12-30T12:22:41.124Z"
   },
   {
    "duration": 5,
    "start_time": "2022-12-30T12:22:41.146Z"
   },
   {
    "duration": 23,
    "start_time": "2022-12-30T12:22:41.152Z"
   },
   {
    "duration": 6727,
    "start_time": "2022-12-30T12:22:41.177Z"
   },
   {
    "duration": 123,
    "start_time": "2022-12-30T12:22:47.906Z"
   },
   {
    "duration": 174,
    "start_time": "2022-12-30T12:22:48.031Z"
   },
   {
    "duration": 150,
    "start_time": "2022-12-30T12:22:48.207Z"
   },
   {
    "duration": 181,
    "start_time": "2022-12-30T12:22:48.361Z"
   },
   {
    "duration": 26,
    "start_time": "2022-12-30T12:22:48.545Z"
   },
   {
    "duration": 4,
    "start_time": "2022-12-30T12:38:08.927Z"
   },
   {
    "duration": 11,
    "start_time": "2022-12-30T12:38:12.093Z"
   },
   {
    "duration": 5328,
    "start_time": "2022-12-30T12:38:12.957Z"
   },
   {
    "duration": 89,
    "start_time": "2022-12-30T12:38:22.206Z"
   },
   {
    "duration": 106,
    "start_time": "2022-12-30T12:38:22.709Z"
   },
   {
    "duration": 94,
    "start_time": "2022-12-30T12:38:23.510Z"
   },
   {
    "duration": 110,
    "start_time": "2022-12-30T12:38:24.381Z"
   },
   {
    "duration": 17,
    "start_time": "2022-12-30T12:38:29.614Z"
   },
   {
    "duration": 1263,
    "start_time": "2022-12-30T12:38:50.252Z"
   },
   {
    "duration": 61,
    "start_time": "2022-12-30T12:38:51.518Z"
   },
   {
    "duration": 3,
    "start_time": "2022-12-30T12:38:51.582Z"
   },
   {
    "duration": 12,
    "start_time": "2022-12-30T12:38:51.587Z"
   },
   {
    "duration": 11,
    "start_time": "2022-12-30T12:38:51.601Z"
   },
   {
    "duration": 16,
    "start_time": "2022-12-30T12:38:51.614Z"
   },
   {
    "duration": 16,
    "start_time": "2022-12-30T12:38:51.633Z"
   },
   {
    "duration": 5,
    "start_time": "2022-12-30T12:38:51.651Z"
   },
   {
    "duration": 22,
    "start_time": "2022-12-30T12:38:51.658Z"
   },
   {
    "duration": 4951,
    "start_time": "2022-12-30T12:38:51.681Z"
   },
   {
    "duration": 121,
    "start_time": "2022-12-30T12:38:56.634Z"
   },
   {
    "duration": 112,
    "start_time": "2022-12-30T12:38:56.756Z"
   },
   {
    "duration": 103,
    "start_time": "2022-12-30T12:38:56.870Z"
   },
   {
    "duration": 126,
    "start_time": "2022-12-30T12:38:56.976Z"
   },
   {
    "duration": 27,
    "start_time": "2022-12-30T12:38:57.104Z"
   },
   {
    "duration": 6,
    "start_time": "2022-12-30T12:40:21.941Z"
   },
   {
    "duration": 6,
    "start_time": "2022-12-30T12:42:33.283Z"
   },
   {
    "duration": 1310,
    "start_time": "2022-12-30T12:44:05.400Z"
   },
   {
    "duration": 55,
    "start_time": "2022-12-30T12:44:06.712Z"
   },
   {
    "duration": 4,
    "start_time": "2022-12-30T12:44:06.769Z"
   },
   {
    "duration": 24,
    "start_time": "2022-12-30T12:44:06.774Z"
   },
   {
    "duration": 7,
    "start_time": "2022-12-30T12:44:06.800Z"
   },
   {
    "duration": 17,
    "start_time": "2022-12-30T12:44:06.808Z"
   },
   {
    "duration": 23,
    "start_time": "2022-12-30T12:44:06.827Z"
   },
   {
    "duration": 4,
    "start_time": "2022-12-30T12:44:06.852Z"
   },
   {
    "duration": 14,
    "start_time": "2022-12-30T12:44:06.858Z"
   },
   {
    "duration": 4932,
    "start_time": "2022-12-30T12:44:06.873Z"
   },
   {
    "duration": 102,
    "start_time": "2022-12-30T12:44:11.807Z"
   },
   {
    "duration": 115,
    "start_time": "2022-12-30T12:44:11.921Z"
   },
   {
    "duration": 113,
    "start_time": "2022-12-30T12:44:12.038Z"
   },
   {
    "duration": 125,
    "start_time": "2022-12-30T12:44:12.153Z"
   },
   {
    "duration": 19,
    "start_time": "2022-12-30T12:44:12.279Z"
   },
   {
    "duration": 21,
    "start_time": "2022-12-30T12:44:12.300Z"
   },
   {
    "duration": 6,
    "start_time": "2022-12-30T12:44:12.323Z"
   },
   {
    "duration": 17,
    "start_time": "2022-12-30T12:44:12.330Z"
   },
   {
    "duration": 4,
    "start_time": "2022-12-30T12:46:44.142Z"
   },
   {
    "duration": 24,
    "start_time": "2022-12-30T12:50:53.645Z"
   },
   {
    "duration": 12,
    "start_time": "2022-12-30T12:51:29.514Z"
   },
   {
    "duration": 13,
    "start_time": "2022-12-30T13:04:26.007Z"
   },
   {
    "duration": 3,
    "start_time": "2022-12-30T13:04:33.092Z"
   },
   {
    "duration": 1301,
    "start_time": "2022-12-30T13:04:39.345Z"
   },
   {
    "duration": 57,
    "start_time": "2022-12-30T13:04:40.648Z"
   },
   {
    "duration": 3,
    "start_time": "2022-12-30T13:04:40.707Z"
   },
   {
    "duration": 16,
    "start_time": "2022-12-30T13:04:40.712Z"
   },
   {
    "duration": 7,
    "start_time": "2022-12-30T13:04:40.729Z"
   },
   {
    "duration": 14,
    "start_time": "2022-12-30T13:04:40.737Z"
   },
   {
    "duration": 17,
    "start_time": "2022-12-30T13:04:40.753Z"
   },
   {
    "duration": 4,
    "start_time": "2022-12-30T13:04:40.772Z"
   },
   {
    "duration": 17,
    "start_time": "2022-12-30T13:04:40.777Z"
   },
   {
    "duration": 5228,
    "start_time": "2022-12-30T13:04:40.797Z"
   },
   {
    "duration": 111,
    "start_time": "2022-12-30T13:04:46.027Z"
   },
   {
    "duration": 134,
    "start_time": "2022-12-30T13:04:46.140Z"
   },
   {
    "duration": 145,
    "start_time": "2022-12-30T13:04:46.276Z"
   },
   {
    "duration": 136,
    "start_time": "2022-12-30T13:04:46.423Z"
   },
   {
    "duration": 24,
    "start_time": "2022-12-30T13:04:46.560Z"
   },
   {
    "duration": 8,
    "start_time": "2022-12-30T13:04:46.586Z"
   },
   {
    "duration": 26,
    "start_time": "2022-12-30T13:04:46.595Z"
   },
   {
    "duration": 5,
    "start_time": "2022-12-30T13:04:46.623Z"
   },
   {
    "duration": 8,
    "start_time": "2022-12-30T13:04:46.630Z"
   },
   {
    "duration": 27,
    "start_time": "2022-12-30T13:04:46.640Z"
   },
   {
    "duration": 14,
    "start_time": "2022-12-30T13:04:46.669Z"
   },
   {
    "duration": 5,
    "start_time": "2022-12-30T13:09:45.766Z"
   },
   {
    "duration": 37,
    "start_time": "2022-12-30T13:19:57.239Z"
   },
   {
    "duration": 56,
    "start_time": "2022-12-30T13:26:03.391Z"
   },
   {
    "duration": 46,
    "start_time": "2022-12-30T13:26:29.143Z"
   },
   {
    "duration": 2195,
    "start_time": "2022-12-30T13:27:38.542Z"
   },
   {
    "duration": 59,
    "start_time": "2022-12-30T13:27:40.739Z"
   },
   {
    "duration": 3,
    "start_time": "2022-12-30T13:27:40.799Z"
   },
   {
    "duration": 13,
    "start_time": "2022-12-30T13:27:40.804Z"
   },
   {
    "duration": 5,
    "start_time": "2022-12-30T13:27:40.819Z"
   },
   {
    "duration": 38,
    "start_time": "2022-12-30T13:27:40.825Z"
   },
   {
    "duration": 16,
    "start_time": "2022-12-30T13:27:40.865Z"
   },
   {
    "duration": 4,
    "start_time": "2022-12-30T13:27:40.883Z"
   },
   {
    "duration": 22,
    "start_time": "2022-12-30T13:27:40.888Z"
   },
   {
    "duration": 5859,
    "start_time": "2022-12-30T13:27:40.911Z"
   },
   {
    "duration": 115,
    "start_time": "2022-12-30T13:27:46.772Z"
   },
   {
    "duration": 149,
    "start_time": "2022-12-30T13:27:46.888Z"
   },
   {
    "duration": 128,
    "start_time": "2022-12-30T13:27:47.038Z"
   },
   {
    "duration": 129,
    "start_time": "2022-12-30T13:27:47.169Z"
   },
   {
    "duration": 22,
    "start_time": "2022-12-30T13:27:47.299Z"
   },
   {
    "duration": 8,
    "start_time": "2022-12-30T13:27:47.323Z"
   },
   {
    "duration": 32,
    "start_time": "2022-12-30T13:27:47.333Z"
   },
   {
    "duration": 8,
    "start_time": "2022-12-30T13:27:47.366Z"
   },
   {
    "duration": 6,
    "start_time": "2022-12-30T13:27:47.375Z"
   },
   {
    "duration": 26,
    "start_time": "2022-12-30T13:27:47.382Z"
   },
   {
    "duration": 9,
    "start_time": "2022-12-30T13:27:47.410Z"
   },
   {
    "duration": 38,
    "start_time": "2022-12-30T13:27:47.421Z"
   },
   {
    "duration": 45,
    "start_time": "2022-12-30T13:27:47.461Z"
   },
   {
    "duration": 70,
    "start_time": "2022-12-30T13:28:25.700Z"
   },
   {
    "duration": 2,
    "start_time": "2022-12-30T13:29:39.968Z"
   },
   {
    "duration": 306,
    "start_time": "2022-12-30T13:31:42.809Z"
   },
   {
    "duration": 311,
    "start_time": "2022-12-30T13:32:31.437Z"
   },
   {
    "duration": 312,
    "start_time": "2022-12-30T13:33:00.089Z"
   },
   {
    "duration": 328,
    "start_time": "2022-12-30T13:33:42.313Z"
   },
   {
    "duration": 3,
    "start_time": "2022-12-30T13:36:16.854Z"
   },
   {
    "duration": 286,
    "start_time": "2022-12-30T13:38:03.364Z"
   },
   {
    "duration": 3,
    "start_time": "2022-12-30T13:38:42.292Z"
   },
   {
    "duration": 57,
    "start_time": "2022-12-30T13:38:42.297Z"
   },
   {
    "duration": 5,
    "start_time": "2022-12-30T13:38:42.356Z"
   },
   {
    "duration": 14,
    "start_time": "2022-12-30T13:38:42.363Z"
   },
   {
    "duration": 6,
    "start_time": "2022-12-30T13:38:42.379Z"
   },
   {
    "duration": 13,
    "start_time": "2022-12-30T13:38:42.387Z"
   },
   {
    "duration": 27,
    "start_time": "2022-12-30T13:38:42.402Z"
   },
   {
    "duration": 13,
    "start_time": "2022-12-30T13:38:42.430Z"
   },
   {
    "duration": 17,
    "start_time": "2022-12-30T13:38:42.445Z"
   },
   {
    "duration": 5476,
    "start_time": "2022-12-30T13:38:42.464Z"
   },
   {
    "duration": 116,
    "start_time": "2022-12-30T13:38:47.942Z"
   },
   {
    "duration": 136,
    "start_time": "2022-12-30T13:38:48.060Z"
   },
   {
    "duration": 125,
    "start_time": "2022-12-30T13:38:48.199Z"
   },
   {
    "duration": 136,
    "start_time": "2022-12-30T13:38:48.327Z"
   },
   {
    "duration": 20,
    "start_time": "2022-12-30T13:38:48.465Z"
   },
   {
    "duration": 6,
    "start_time": "2022-12-30T13:38:48.487Z"
   },
   {
    "duration": 31,
    "start_time": "2022-12-30T13:38:48.494Z"
   },
   {
    "duration": 7,
    "start_time": "2022-12-30T13:38:48.530Z"
   },
   {
    "duration": 32,
    "start_time": "2022-12-30T13:38:48.539Z"
   },
   {
    "duration": 33,
    "start_time": "2022-12-30T13:38:48.573Z"
   },
   {
    "duration": 21,
    "start_time": "2022-12-30T13:38:48.608Z"
   },
   {
    "duration": 17,
    "start_time": "2022-12-30T13:38:48.630Z"
   },
   {
    "duration": 305,
    "start_time": "2022-12-30T13:38:48.648Z"
   },
   {
    "duration": 46,
    "start_time": "2022-12-30T13:44:27.296Z"
   },
   {
    "duration": 400,
    "start_time": "2022-12-30T13:45:12.976Z"
   },
   {
    "duration": 27,
    "start_time": "2022-12-30T13:45:21.999Z"
   },
   {
    "duration": 72965,
    "start_time": "2022-12-30T14:00:10.946Z"
   },
   {
    "duration": 6699,
    "start_time": "2022-12-30T14:06:42.660Z"
   },
   {
    "duration": 1457,
    "start_time": "2022-12-30T14:07:02.717Z"
   },
   {
    "duration": 291,
    "start_time": "2022-12-30T14:08:44.666Z"
   },
   {
    "duration": 183,
    "start_time": "2022-12-30T14:09:03.139Z"
   },
   {
    "duration": 70759,
    "start_time": "2022-12-30T14:10:36.693Z"
   },
   {
    "duration": 1402,
    "start_time": "2022-12-30T14:12:07.920Z"
   },
   {
    "duration": 6786,
    "start_time": "2022-12-30T14:16:30.508Z"
   },
   {
    "duration": 5,
    "start_time": "2022-12-30T14:24:33.336Z"
   },
   {
    "duration": 77,
    "start_time": "2022-12-30T14:25:28.550Z"
   },
   {
    "duration": 10,
    "start_time": "2022-12-30T14:26:27.717Z"
   },
   {
    "duration": 8,
    "start_time": "2022-12-30T14:26:55.701Z"
   },
   {
    "duration": 6,
    "start_time": "2022-12-30T14:30:17.586Z"
   },
   {
    "duration": 7,
    "start_time": "2022-12-30T14:30:44.194Z"
   },
   {
    "duration": 7,
    "start_time": "2022-12-30T14:32:14.745Z"
   },
   {
    "duration": 1354,
    "start_time": "2022-12-30T14:42:49.592Z"
   },
   {
    "duration": 55,
    "start_time": "2022-12-30T14:42:50.947Z"
   },
   {
    "duration": 3,
    "start_time": "2022-12-30T14:42:51.004Z"
   },
   {
    "duration": 27,
    "start_time": "2022-12-30T14:42:51.009Z"
   },
   {
    "duration": 13,
    "start_time": "2022-12-30T14:42:51.038Z"
   },
   {
    "duration": 26,
    "start_time": "2022-12-30T14:42:51.053Z"
   },
   {
    "duration": 27,
    "start_time": "2022-12-30T14:42:51.081Z"
   },
   {
    "duration": 28,
    "start_time": "2022-12-30T14:42:51.110Z"
   },
   {
    "duration": 25,
    "start_time": "2022-12-30T14:42:51.139Z"
   },
   {
    "duration": 5602,
    "start_time": "2022-12-30T14:42:51.167Z"
   },
   {
    "duration": 111,
    "start_time": "2022-12-30T14:42:56.771Z"
   },
   {
    "duration": 116,
    "start_time": "2022-12-30T14:42:56.884Z"
   },
   {
    "duration": 111,
    "start_time": "2022-12-30T14:42:57.002Z"
   },
   {
    "duration": 134,
    "start_time": "2022-12-30T14:42:57.122Z"
   },
   {
    "duration": 17,
    "start_time": "2022-12-30T14:42:57.257Z"
   },
   {
    "duration": 5,
    "start_time": "2022-12-30T14:42:57.276Z"
   },
   {
    "duration": 13,
    "start_time": "2022-12-30T14:42:57.282Z"
   },
   {
    "duration": 8,
    "start_time": "2022-12-30T14:42:57.296Z"
   },
   {
    "duration": 5,
    "start_time": "2022-12-30T14:42:57.320Z"
   },
   {
    "duration": 43,
    "start_time": "2022-12-30T14:42:57.326Z"
   },
   {
    "duration": 10,
    "start_time": "2022-12-30T14:42:57.371Z"
   },
   {
    "duration": 15,
    "start_time": "2022-12-30T14:42:57.382Z"
   },
   {
    "duration": 306,
    "start_time": "2022-12-30T14:42:57.398Z"
   },
   {
    "duration": 43,
    "start_time": "2022-12-30T14:42:57.705Z"
   },
   {
    "duration": 76899,
    "start_time": "2022-12-30T14:42:57.826Z"
   },
   {
    "duration": 1579,
    "start_time": "2022-12-30T14:44:14.727Z"
   },
   {
    "duration": 7073,
    "start_time": "2022-12-30T14:44:16.308Z"
   },
   {
    "duration": 10,
    "start_time": "2022-12-30T14:44:23.384Z"
   },
   {
    "duration": 9,
    "start_time": "2022-12-30T14:44:23.396Z"
   },
   {
    "duration": 4,
    "start_time": "2022-12-30T15:25:38.371Z"
   },
   {
    "duration": 3,
    "start_time": "2022-12-30T15:26:20.266Z"
   },
   {
    "duration": 128,
    "start_time": "2022-12-30T15:27:26.419Z"
   },
   {
    "duration": 14,
    "start_time": "2022-12-30T15:28:21.041Z"
   },
   {
    "duration": 1274,
    "start_time": "2022-12-30T15:28:27.856Z"
   },
   {
    "duration": 58,
    "start_time": "2022-12-30T15:28:29.133Z"
   },
   {
    "duration": 3,
    "start_time": "2022-12-30T15:28:29.192Z"
   },
   {
    "duration": 8,
    "start_time": "2022-12-30T15:28:29.197Z"
   },
   {
    "duration": 4,
    "start_time": "2022-12-30T15:28:29.207Z"
   },
   {
    "duration": 9,
    "start_time": "2022-12-30T15:28:29.212Z"
   },
   {
    "duration": 17,
    "start_time": "2022-12-30T15:28:29.223Z"
   },
   {
    "duration": 4,
    "start_time": "2022-12-30T15:28:29.242Z"
   },
   {
    "duration": 14,
    "start_time": "2022-12-30T15:28:29.248Z"
   },
   {
    "duration": 5329,
    "start_time": "2022-12-30T15:28:29.265Z"
   },
   {
    "duration": 108,
    "start_time": "2022-12-30T15:28:34.596Z"
   },
   {
    "duration": 118,
    "start_time": "2022-12-30T15:28:34.705Z"
   },
   {
    "duration": 116,
    "start_time": "2022-12-30T15:28:34.825Z"
   },
   {
    "duration": 131,
    "start_time": "2022-12-30T15:28:34.943Z"
   },
   {
    "duration": 17,
    "start_time": "2022-12-30T15:28:35.076Z"
   },
   {
    "duration": 4,
    "start_time": "2022-12-30T15:28:35.095Z"
   },
   {
    "duration": 20,
    "start_time": "2022-12-30T15:28:35.101Z"
   },
   {
    "duration": 33,
    "start_time": "2022-12-30T15:28:35.123Z"
   },
   {
    "duration": 20,
    "start_time": "2022-12-30T15:28:35.157Z"
   },
   {
    "duration": 67,
    "start_time": "2022-12-30T15:28:35.180Z"
   },
   {
    "duration": 19,
    "start_time": "2022-12-30T15:28:35.249Z"
   },
   {
    "duration": 12,
    "start_time": "2022-12-30T15:28:35.270Z"
   },
   {
    "duration": 333,
    "start_time": "2022-12-30T15:28:35.284Z"
   },
   {
    "duration": 111,
    "start_time": "2022-12-30T15:28:35.619Z"
   },
   {
    "duration": 76790,
    "start_time": "2022-12-30T15:28:35.733Z"
   },
   {
    "duration": 1540,
    "start_time": "2022-12-30T15:29:52.534Z"
   },
   {
    "duration": 6956,
    "start_time": "2022-12-30T15:29:54.076Z"
   },
   {
    "duration": 8,
    "start_time": "2022-12-30T15:30:01.037Z"
   },
   {
    "duration": 23,
    "start_time": "2022-12-30T15:30:01.047Z"
   },
   {
    "duration": 24,
    "start_time": "2022-12-30T15:30:01.072Z"
   },
   {
    "duration": 163,
    "start_time": "2022-12-30T15:30:01.097Z"
   },
   {
    "duration": 4,
    "start_time": "2022-12-30T15:30:14.217Z"
   },
   {
    "duration": 12,
    "start_time": "2022-12-30T15:30:15.237Z"
   },
   {
    "duration": 365,
    "start_time": "2022-12-30T15:32:41.798Z"
   },
   {
    "duration": 390,
    "start_time": "2022-12-30T15:34:20.438Z"
   },
   {
    "duration": 82,
    "start_time": "2022-12-30T15:35:12.539Z"
   },
   {
    "duration": 16639,
    "start_time": "2022-12-30T15:38:53.648Z"
   },
   {
    "duration": 85487,
    "start_time": "2022-12-30T15:39:19.672Z"
   },
   {
    "duration": 501,
    "start_time": "2022-12-30T15:45:55.114Z"
   },
   {
    "duration": 84303,
    "start_time": "2022-12-30T15:48:19.265Z"
   },
   {
    "duration": 101,
    "start_time": "2022-12-30T15:50:16.880Z"
   },
   {
    "duration": 98,
    "start_time": "2022-12-30T15:50:36.055Z"
   },
   {
    "duration": 99,
    "start_time": "2022-12-30T15:55:24.466Z"
   },
   {
    "duration": 130,
    "start_time": "2022-12-30T15:56:09.091Z"
   },
   {
    "duration": 142,
    "start_time": "2022-12-30T15:56:21.034Z"
   },
   {
    "duration": 9,
    "start_time": "2022-12-30T16:02:39.701Z"
   },
   {
    "duration": 371,
    "start_time": "2022-12-30T16:02:42.036Z"
   },
   {
    "duration": 39,
    "start_time": "2022-12-30T16:02:48.181Z"
   },
   {
    "duration": 92454,
    "start_time": "2022-12-30T16:02:57.563Z"
   },
   {
    "duration": 477,
    "start_time": "2022-12-30T16:05:04.434Z"
   },
   {
    "duration": 167,
    "start_time": "2022-12-30T16:05:30.562Z"
   },
   {
    "duration": 140,
    "start_time": "2022-12-30T16:05:52.457Z"
   },
   {
    "duration": 508,
    "start_time": "2022-12-30T16:06:13.090Z"
   },
   {
    "duration": 464,
    "start_time": "2022-12-30T16:06:29.434Z"
   },
   {
    "duration": 4,
    "start_time": "2022-12-30T16:08:42.233Z"
   },
   {
    "duration": 1327,
    "start_time": "2022-12-30T16:09:06.593Z"
   },
   {
    "duration": 63,
    "start_time": "2022-12-30T16:09:07.923Z"
   },
   {
    "duration": 3,
    "start_time": "2022-12-30T16:09:07.988Z"
   },
   {
    "duration": 11,
    "start_time": "2022-12-30T16:09:07.992Z"
   },
   {
    "duration": 4,
    "start_time": "2022-12-30T16:09:08.005Z"
   },
   {
    "duration": 8,
    "start_time": "2022-12-30T16:09:08.011Z"
   },
   {
    "duration": 18,
    "start_time": "2022-12-30T16:09:08.022Z"
   },
   {
    "duration": 5,
    "start_time": "2022-12-30T16:09:08.042Z"
   },
   {
    "duration": 13,
    "start_time": "2022-12-30T16:09:08.048Z"
   },
   {
    "duration": 5296,
    "start_time": "2022-12-30T16:09:08.062Z"
   },
   {
    "duration": 108,
    "start_time": "2022-12-30T16:09:13.360Z"
   },
   {
    "duration": 119,
    "start_time": "2022-12-30T16:09:13.470Z"
   },
   {
    "duration": 108,
    "start_time": "2022-12-30T16:09:13.591Z"
   },
   {
    "duration": 134,
    "start_time": "2022-12-30T16:09:13.702Z"
   },
   {
    "duration": 20,
    "start_time": "2022-12-30T16:09:13.838Z"
   },
   {
    "duration": 5,
    "start_time": "2022-12-30T16:09:13.860Z"
   },
   {
    "duration": 8,
    "start_time": "2022-12-30T16:09:13.866Z"
   },
   {
    "duration": 7,
    "start_time": "2022-12-30T16:09:13.875Z"
   },
   {
    "duration": 6,
    "start_time": "2022-12-30T16:09:13.883Z"
   },
   {
    "duration": 33,
    "start_time": "2022-12-30T16:09:13.921Z"
   },
   {
    "duration": 12,
    "start_time": "2022-12-30T16:09:13.955Z"
   },
   {
    "duration": 6,
    "start_time": "2022-12-30T16:09:13.968Z"
   },
   {
    "duration": 314,
    "start_time": "2022-12-30T16:09:13.976Z"
   },
   {
    "duration": 31,
    "start_time": "2022-12-30T16:09:14.292Z"
   },
   {
    "duration": 75288,
    "start_time": "2022-12-30T16:09:14.325Z"
   },
   {
    "duration": 1518,
    "start_time": "2022-12-30T16:10:29.615Z"
   },
   {
    "duration": 6854,
    "start_time": "2022-12-30T16:10:31.135Z"
   },
   {
    "duration": 7,
    "start_time": "2022-12-30T16:10:37.991Z"
   },
   {
    "duration": 21,
    "start_time": "2022-12-30T16:10:38.000Z"
   },
   {
    "duration": 15,
    "start_time": "2022-12-30T16:10:38.028Z"
   },
   {
    "duration": 39,
    "start_time": "2022-12-30T16:10:38.044Z"
   },
   {
    "duration": 392,
    "start_time": "2022-12-30T16:10:38.085Z"
   },
   {
    "duration": 49,
    "start_time": "2022-12-30T16:10:38.479Z"
   },
   {
    "duration": 95049,
    "start_time": "2022-12-30T16:10:38.530Z"
   },
   {
    "duration": 485,
    "start_time": "2022-12-30T16:12:13.581Z"
   },
   {
    "duration": 458,
    "start_time": "2022-12-30T16:12:14.068Z"
   },
   {
    "duration": 121,
    "start_time": "2022-12-30T16:14:56.546Z"
   },
   {
    "duration": 113,
    "start_time": "2022-12-30T16:15:46.081Z"
   },
   {
    "duration": 867,
    "start_time": "2022-12-30T16:31:14.492Z"
   },
   {
    "duration": 861,
    "start_time": "2022-12-30T16:31:26.699Z"
   },
   {
    "duration": 465,
    "start_time": "2022-12-30T16:31:37.156Z"
   },
   {
    "duration": 445,
    "start_time": "2022-12-30T16:31:41.188Z"
   },
   {
    "duration": 106,
    "start_time": "2022-12-30T16:34:25.676Z"
   },
   {
    "duration": 466,
    "start_time": "2022-12-30T16:41:55.596Z"
   },
   {
    "duration": 426,
    "start_time": "2022-12-30T16:42:50.084Z"
   },
   {
    "duration": 144,
    "start_time": "2022-12-30T16:44:25.050Z"
   },
   {
    "duration": 3235,
    "start_time": "2022-12-30T17:11:52.164Z"
   },
   {
    "duration": 53,
    "start_time": "2022-12-30T17:11:55.401Z"
   },
   {
    "duration": 3,
    "start_time": "2022-12-30T17:11:55.457Z"
   },
   {
    "duration": 13,
    "start_time": "2022-12-30T17:11:55.462Z"
   },
   {
    "duration": 5,
    "start_time": "2022-12-30T17:11:55.478Z"
   },
   {
    "duration": 13,
    "start_time": "2022-12-30T17:11:55.485Z"
   },
   {
    "duration": 35,
    "start_time": "2022-12-30T17:11:55.500Z"
   },
   {
    "duration": 5,
    "start_time": "2022-12-30T17:11:55.537Z"
   },
   {
    "duration": 13,
    "start_time": "2022-12-30T17:11:55.544Z"
   },
   {
    "duration": 4976,
    "start_time": "2022-12-30T17:11:55.559Z"
   },
   {
    "duration": 149,
    "start_time": "2022-12-30T17:12:00.537Z"
   },
   {
    "duration": 166,
    "start_time": "2022-12-30T17:12:00.688Z"
   },
   {
    "duration": 113,
    "start_time": "2022-12-30T17:12:00.856Z"
   },
   {
    "duration": 127,
    "start_time": "2022-12-30T17:12:00.973Z"
   },
   {
    "duration": 26,
    "start_time": "2022-12-30T17:12:01.102Z"
   },
   {
    "duration": 10,
    "start_time": "2022-12-30T17:12:01.131Z"
   },
   {
    "duration": 105,
    "start_time": "2022-12-30T17:12:01.142Z"
   },
   {
    "duration": 55,
    "start_time": "2022-12-30T17:12:01.249Z"
   },
   {
    "duration": 17,
    "start_time": "2022-12-30T17:12:01.306Z"
   },
   {
    "duration": 87,
    "start_time": "2022-12-30T17:12:01.326Z"
   },
   {
    "duration": 28,
    "start_time": "2022-12-30T17:12:01.415Z"
   },
   {
    "duration": 94,
    "start_time": "2022-12-30T17:12:01.444Z"
   },
   {
    "duration": 396,
    "start_time": "2022-12-30T17:12:01.540Z"
   },
   {
    "duration": 95,
    "start_time": "2022-12-30T17:12:01.938Z"
   },
   {
    "duration": 71731,
    "start_time": "2022-12-30T17:12:02.035Z"
   },
   {
    "duration": 1418,
    "start_time": "2022-12-30T17:13:13.768Z"
   },
   {
    "duration": 6817,
    "start_time": "2022-12-30T17:13:15.188Z"
   },
   {
    "duration": 19,
    "start_time": "2022-12-30T17:13:22.007Z"
   },
   {
    "duration": 11,
    "start_time": "2022-12-30T17:13:22.027Z"
   },
   {
    "duration": 6,
    "start_time": "2022-12-30T17:13:22.040Z"
   },
   {
    "duration": 17,
    "start_time": "2022-12-30T17:13:22.048Z"
   },
   {
    "duration": 404,
    "start_time": "2022-12-30T17:13:22.066Z"
   },
   {
    "duration": 149,
    "start_time": "2022-12-30T17:13:22.472Z"
   },
   {
    "duration": 90941,
    "start_time": "2022-12-30T17:13:22.624Z"
   },
   {
    "duration": 458,
    "start_time": "2022-12-30T17:14:53.567Z"
   },
   {
    "duration": 114,
    "start_time": "2022-12-30T17:14:54.026Z"
   },
   {
    "duration": 451,
    "start_time": "2022-12-30T17:14:54.141Z"
   },
   {
    "duration": 146,
    "start_time": "2022-12-30T17:14:54.594Z"
   },
   {
    "duration": 46,
    "start_time": "2023-01-02T09:58:17.788Z"
   },
   {
    "duration": 6,
    "start_time": "2023-01-02T09:58:30.514Z"
   },
   {
    "duration": 1475,
    "start_time": "2023-01-02T09:58:35.566Z"
   },
   {
    "duration": 169,
    "start_time": "2023-01-02T09:58:37.044Z"
   },
   {
    "duration": 3,
    "start_time": "2023-01-02T09:58:37.214Z"
   },
   {
    "duration": 10,
    "start_time": "2023-01-02T09:58:37.218Z"
   },
   {
    "duration": 8,
    "start_time": "2023-01-02T09:58:37.230Z"
   },
   {
    "duration": 10,
    "start_time": "2023-01-02T09:58:37.239Z"
   },
   {
    "duration": 12,
    "start_time": "2023-01-02T09:58:37.251Z"
   },
   {
    "duration": 4,
    "start_time": "2023-01-02T09:58:37.264Z"
   },
   {
    "duration": 13,
    "start_time": "2023-01-02T09:58:37.270Z"
   },
   {
    "duration": 5106,
    "start_time": "2023-01-02T09:58:37.285Z"
   },
   {
    "duration": 92,
    "start_time": "2023-01-02T09:58:42.393Z"
   },
   {
    "duration": 114,
    "start_time": "2023-01-02T09:58:42.487Z"
   },
   {
    "duration": 107,
    "start_time": "2023-01-02T09:58:42.602Z"
   },
   {
    "duration": 114,
    "start_time": "2023-01-02T09:58:42.721Z"
   },
   {
    "duration": 17,
    "start_time": "2023-01-02T09:58:42.837Z"
   },
   {
    "duration": 4,
    "start_time": "2023-01-02T09:58:42.856Z"
   },
   {
    "duration": 6,
    "start_time": "2023-01-02T09:58:42.862Z"
   },
   {
    "duration": 5,
    "start_time": "2023-01-02T09:58:42.870Z"
   },
   {
    "duration": 5,
    "start_time": "2023-01-02T09:58:42.876Z"
   },
   {
    "duration": 54,
    "start_time": "2023-01-02T09:58:42.883Z"
   },
   {
    "duration": 12,
    "start_time": "2023-01-02T09:58:42.938Z"
   },
   {
    "duration": 8,
    "start_time": "2023-01-02T09:58:42.952Z"
   },
   {
    "duration": 306,
    "start_time": "2023-01-02T09:58:42.961Z"
   },
   {
    "duration": 54,
    "start_time": "2023-01-02T09:58:43.269Z"
   },
   {
    "duration": 74141,
    "start_time": "2023-01-02T09:58:43.324Z"
   },
   {
    "duration": 1463,
    "start_time": "2023-01-02T09:59:57.467Z"
   },
   {
    "duration": 6925,
    "start_time": "2023-01-02T09:59:58.932Z"
   },
   {
    "duration": 11,
    "start_time": "2023-01-02T10:00:05.860Z"
   },
   {
    "duration": 10,
    "start_time": "2023-01-02T10:00:05.874Z"
   },
   {
    "duration": 4,
    "start_time": "2023-01-02T10:00:05.887Z"
   },
   {
    "duration": 38,
    "start_time": "2023-01-02T10:00:05.892Z"
   },
   {
    "duration": 373,
    "start_time": "2023-01-02T10:00:05.931Z"
   },
   {
    "duration": 35,
    "start_time": "2023-01-02T10:00:06.306Z"
   },
   {
    "duration": 93007,
    "start_time": "2023-01-02T10:00:06.424Z"
   },
   {
    "duration": 501,
    "start_time": "2023-01-02T10:01:39.433Z"
   },
   {
    "duration": 128,
    "start_time": "2023-01-02T10:01:39.936Z"
   },
   {
    "duration": 474,
    "start_time": "2023-01-02T10:01:40.066Z"
   },
   {
    "duration": 155,
    "start_time": "2023-01-02T10:01:40.542Z"
   },
   {
    "duration": 119,
    "start_time": "2023-01-02T10:04:17.889Z"
   },
   {
    "duration": 102,
    "start_time": "2023-01-02T10:04:29.045Z"
   },
   {
    "duration": 4,
    "start_time": "2023-01-02T10:04:41.995Z"
   },
   {
    "duration": 17,
    "start_time": "2023-01-02T10:08:24.203Z"
   },
   {
    "duration": 6,
    "start_time": "2023-01-02T10:09:22.190Z"
   },
   {
    "duration": 7,
    "start_time": "2023-01-02T10:09:26.096Z"
   },
   {
    "duration": 6,
    "start_time": "2023-01-02T10:09:27.424Z"
   },
   {
    "duration": 20,
    "start_time": "2023-01-02T10:09:29.257Z"
   },
   {
    "duration": 4,
    "start_time": "2023-01-02T10:09:31.210Z"
   },
   {
    "duration": 1338,
    "start_time": "2023-01-02T10:09:44.197Z"
   },
   {
    "duration": 58,
    "start_time": "2023-01-02T10:09:45.537Z"
   },
   {
    "duration": 3,
    "start_time": "2023-01-02T10:09:45.597Z"
   },
   {
    "duration": 11,
    "start_time": "2023-01-02T10:09:45.601Z"
   },
   {
    "duration": 5,
    "start_time": "2023-01-02T10:09:45.614Z"
   },
   {
    "duration": 9,
    "start_time": "2023-01-02T10:09:45.620Z"
   },
   {
    "duration": 13,
    "start_time": "2023-01-02T10:09:45.631Z"
   },
   {
    "duration": 4,
    "start_time": "2023-01-02T10:09:45.645Z"
   },
   {
    "duration": 14,
    "start_time": "2023-01-02T10:09:45.651Z"
   },
   {
    "duration": 5324,
    "start_time": "2023-01-02T10:09:45.667Z"
   },
   {
    "duration": 96,
    "start_time": "2023-01-02T10:09:50.993Z"
   },
   {
    "duration": 117,
    "start_time": "2023-01-02T10:09:51.090Z"
   },
   {
    "duration": 117,
    "start_time": "2023-01-02T10:09:51.209Z"
   },
   {
    "duration": 130,
    "start_time": "2023-01-02T10:09:51.330Z"
   },
   {
    "duration": 4,
    "start_time": "2023-01-02T10:09:51.461Z"
   },
   {
    "duration": 11,
    "start_time": "2023-01-02T10:09:51.467Z"
   },
   {
    "duration": 15,
    "start_time": "2023-01-02T10:09:51.479Z"
   },
   {
    "duration": 27,
    "start_time": "2023-01-02T10:09:51.496Z"
   },
   {
    "duration": 4,
    "start_time": "2023-01-02T10:09:51.525Z"
   },
   {
    "duration": 33,
    "start_time": "2023-01-02T10:09:51.531Z"
   },
   {
    "duration": 12,
    "start_time": "2023-01-02T10:09:51.565Z"
   },
   {
    "duration": 141,
    "start_time": "2023-01-02T10:09:51.579Z"
   },
   {
    "duration": 0,
    "start_time": "2023-01-02T10:09:51.721Z"
   },
   {
    "duration": 0,
    "start_time": "2023-01-02T10:09:51.722Z"
   },
   {
    "duration": 0,
    "start_time": "2023-01-02T10:09:51.723Z"
   },
   {
    "duration": 0,
    "start_time": "2023-01-02T10:09:51.725Z"
   },
   {
    "duration": 0,
    "start_time": "2023-01-02T10:09:51.726Z"
   },
   {
    "duration": 0,
    "start_time": "2023-01-02T10:09:51.727Z"
   },
   {
    "duration": 0,
    "start_time": "2023-01-02T10:09:51.729Z"
   },
   {
    "duration": 0,
    "start_time": "2023-01-02T10:09:51.730Z"
   },
   {
    "duration": 0,
    "start_time": "2023-01-02T10:09:51.731Z"
   },
   {
    "duration": 0,
    "start_time": "2023-01-02T10:09:51.733Z"
   },
   {
    "duration": 0,
    "start_time": "2023-01-02T10:09:51.735Z"
   },
   {
    "duration": 0,
    "start_time": "2023-01-02T10:09:51.737Z"
   },
   {
    "duration": 0,
    "start_time": "2023-01-02T10:09:51.738Z"
   },
   {
    "duration": 0,
    "start_time": "2023-01-02T10:09:51.740Z"
   },
   {
    "duration": 0,
    "start_time": "2023-01-02T10:09:51.741Z"
   },
   {
    "duration": 0,
    "start_time": "2023-01-02T10:09:51.742Z"
   },
   {
    "duration": 6,
    "start_time": "2023-01-02T10:11:05.409Z"
   },
   {
    "duration": 1412,
    "start_time": "2023-01-02T10:14:28.513Z"
   },
   {
    "duration": 60,
    "start_time": "2023-01-02T10:14:29.927Z"
   },
   {
    "duration": 4,
    "start_time": "2023-01-02T10:14:29.988Z"
   },
   {
    "duration": 12,
    "start_time": "2023-01-02T10:14:29.994Z"
   },
   {
    "duration": 6,
    "start_time": "2023-01-02T10:14:30.007Z"
   },
   {
    "duration": 8,
    "start_time": "2023-01-02T10:14:30.015Z"
   },
   {
    "duration": 14,
    "start_time": "2023-01-02T10:14:30.024Z"
   },
   {
    "duration": 3,
    "start_time": "2023-01-02T10:14:30.040Z"
   },
   {
    "duration": 19,
    "start_time": "2023-01-02T10:14:30.044Z"
   },
   {
    "duration": 5319,
    "start_time": "2023-01-02T10:14:30.065Z"
   },
   {
    "duration": 102,
    "start_time": "2023-01-02T10:14:35.385Z"
   },
   {
    "duration": 120,
    "start_time": "2023-01-02T10:14:35.489Z"
   },
   {
    "duration": 131,
    "start_time": "2023-01-02T10:14:35.611Z"
   },
   {
    "duration": 162,
    "start_time": "2023-01-02T10:14:35.744Z"
   },
   {
    "duration": 6,
    "start_time": "2023-01-02T10:14:35.908Z"
   },
   {
    "duration": 14,
    "start_time": "2023-01-02T10:14:35.915Z"
   },
   {
    "duration": 12,
    "start_time": "2023-01-02T10:14:35.931Z"
   },
   {
    "duration": 47,
    "start_time": "2023-01-02T10:14:35.945Z"
   },
   {
    "duration": 6,
    "start_time": "2023-01-02T10:14:35.994Z"
   },
   {
    "duration": 37,
    "start_time": "2023-01-02T10:14:36.002Z"
   },
   {
    "duration": 13,
    "start_time": "2023-01-02T10:14:36.040Z"
   },
   {
    "duration": 12,
    "start_time": "2023-01-02T10:14:36.054Z"
   },
   {
    "duration": 315,
    "start_time": "2023-01-02T10:14:36.068Z"
   },
   {
    "duration": 142,
    "start_time": "2023-01-02T10:14:36.385Z"
   },
   {
    "duration": 74555,
    "start_time": "2023-01-02T10:14:36.530Z"
   },
   {
    "duration": 1468,
    "start_time": "2023-01-02T10:15:51.086Z"
   },
   {
    "duration": 6702,
    "start_time": "2023-01-02T10:15:52.555Z"
   },
   {
    "duration": 12,
    "start_time": "2023-01-02T10:15:59.260Z"
   },
   {
    "duration": 8,
    "start_time": "2023-01-02T10:15:59.273Z"
   },
   {
    "duration": 3,
    "start_time": "2023-01-02T10:15:59.283Z"
   },
   {
    "duration": 82,
    "start_time": "2023-01-02T10:15:59.288Z"
   },
   {
    "duration": 111,
    "start_time": "2023-01-02T10:15:59.372Z"
   },
   {
    "duration": 0,
    "start_time": "2023-01-02T10:15:59.485Z"
   },
   {
    "duration": 0,
    "start_time": "2023-01-02T10:15:59.486Z"
   },
   {
    "duration": 0,
    "start_time": "2023-01-02T10:15:59.487Z"
   },
   {
    "duration": 0,
    "start_time": "2023-01-02T10:15:59.488Z"
   },
   {
    "duration": 0,
    "start_time": "2023-01-02T10:15:59.489Z"
   },
   {
    "duration": 0,
    "start_time": "2023-01-02T10:15:59.490Z"
   },
   {
    "duration": 1320,
    "start_time": "2023-01-02T10:25:37.618Z"
   },
   {
    "duration": 58,
    "start_time": "2023-01-02T10:25:38.941Z"
   },
   {
    "duration": 4,
    "start_time": "2023-01-02T10:25:39.000Z"
   },
   {
    "duration": 8,
    "start_time": "2023-01-02T10:25:39.006Z"
   },
   {
    "duration": 5,
    "start_time": "2023-01-02T10:25:39.016Z"
   },
   {
    "duration": 10,
    "start_time": "2023-01-02T10:25:39.023Z"
   },
   {
    "duration": 12,
    "start_time": "2023-01-02T10:25:39.035Z"
   },
   {
    "duration": 3,
    "start_time": "2023-01-02T10:25:39.049Z"
   },
   {
    "duration": 19,
    "start_time": "2023-01-02T10:25:39.054Z"
   },
   {
    "duration": 5208,
    "start_time": "2023-01-02T10:25:39.075Z"
   },
   {
    "duration": 96,
    "start_time": "2023-01-02T10:25:44.285Z"
   },
   {
    "duration": 117,
    "start_time": "2023-01-02T10:25:44.383Z"
   },
   {
    "duration": 121,
    "start_time": "2023-01-02T10:25:44.502Z"
   },
   {
    "duration": 122,
    "start_time": "2023-01-02T10:25:44.625Z"
   },
   {
    "duration": 4,
    "start_time": "2023-01-02T10:25:44.748Z"
   },
   {
    "duration": 8,
    "start_time": "2023-01-02T10:25:44.754Z"
   },
   {
    "duration": 6,
    "start_time": "2023-01-02T10:25:44.763Z"
   },
   {
    "duration": 20,
    "start_time": "2023-01-02T10:25:44.771Z"
   },
   {
    "duration": 4,
    "start_time": "2023-01-02T10:25:44.792Z"
   },
   {
    "duration": 49,
    "start_time": "2023-01-02T10:25:44.798Z"
   },
   {
    "duration": 11,
    "start_time": "2023-01-02T10:25:44.849Z"
   },
   {
    "duration": 6,
    "start_time": "2023-01-02T10:25:44.862Z"
   },
   {
    "duration": 320,
    "start_time": "2023-01-02T10:25:44.870Z"
   },
   {
    "duration": 129,
    "start_time": "2023-01-02T10:25:45.192Z"
   },
   {
    "duration": 72676,
    "start_time": "2023-01-02T10:25:45.324Z"
   },
   {
    "duration": 1427,
    "start_time": "2023-01-02T10:26:58.001Z"
   },
   {
    "duration": 6824,
    "start_time": "2023-01-02T10:26:59.430Z"
   },
   {
    "duration": 9,
    "start_time": "2023-01-02T10:27:06.258Z"
   },
   {
    "duration": 7,
    "start_time": "2023-01-02T10:27:06.269Z"
   },
   {
    "duration": 4,
    "start_time": "2023-01-02T10:27:06.278Z"
   },
   {
    "duration": 16,
    "start_time": "2023-01-02T10:27:06.283Z"
   },
   {
    "duration": 391,
    "start_time": "2023-01-02T10:27:06.300Z"
   },
   {
    "duration": 34,
    "start_time": "2023-01-02T10:27:06.692Z"
   },
   {
    "duration": 1357,
    "start_time": "2023-01-02T10:42:54.206Z"
   },
   {
    "duration": 58,
    "start_time": "2023-01-02T10:42:55.568Z"
   },
   {
    "duration": 4,
    "start_time": "2023-01-02T10:42:55.627Z"
   },
   {
    "duration": 13,
    "start_time": "2023-01-02T10:42:55.633Z"
   },
   {
    "duration": 5,
    "start_time": "2023-01-02T10:42:55.649Z"
   },
   {
    "duration": 11,
    "start_time": "2023-01-02T10:42:55.656Z"
   },
   {
    "duration": 13,
    "start_time": "2023-01-02T10:42:55.669Z"
   },
   {
    "duration": 3,
    "start_time": "2023-01-02T10:42:55.684Z"
   },
   {
    "duration": 13,
    "start_time": "2023-01-02T10:42:55.723Z"
   },
   {
    "duration": 5190,
    "start_time": "2023-01-02T10:42:55.738Z"
   },
   {
    "duration": 110,
    "start_time": "2023-01-02T10:43:00.929Z"
   },
   {
    "duration": 119,
    "start_time": "2023-01-02T10:43:01.041Z"
   },
   {
    "duration": 108,
    "start_time": "2023-01-02T10:43:01.161Z"
   },
   {
    "duration": 124,
    "start_time": "2023-01-02T10:43:01.272Z"
   },
   {
    "duration": 4,
    "start_time": "2023-01-02T10:43:01.398Z"
   },
   {
    "duration": 22,
    "start_time": "2023-01-02T10:43:01.404Z"
   },
   {
    "duration": 20,
    "start_time": "2023-01-02T10:43:01.428Z"
   },
   {
    "duration": 46,
    "start_time": "2023-01-02T10:43:01.450Z"
   },
   {
    "duration": 17,
    "start_time": "2023-01-02T10:43:01.498Z"
   },
   {
    "duration": 42,
    "start_time": "2023-01-02T10:43:01.517Z"
   },
   {
    "duration": 21,
    "start_time": "2023-01-02T10:43:01.560Z"
   },
   {
    "duration": 8,
    "start_time": "2023-01-02T10:43:01.583Z"
   },
   {
    "duration": 337,
    "start_time": "2023-01-02T10:43:01.592Z"
   },
   {
    "duration": 91,
    "start_time": "2023-01-02T10:43:01.931Z"
   },
   {
    "duration": 74372,
    "start_time": "2023-01-02T10:43:02.027Z"
   },
   {
    "duration": 1450,
    "start_time": "2023-01-02T10:44:16.400Z"
   },
   {
    "duration": 6704,
    "start_time": "2023-01-02T10:44:17.852Z"
   },
   {
    "duration": 8,
    "start_time": "2023-01-02T10:44:24.558Z"
   },
   {
    "duration": 8,
    "start_time": "2023-01-02T10:44:24.567Z"
   },
   {
    "duration": 3,
    "start_time": "2023-01-02T10:44:24.577Z"
   },
   {
    "duration": 14,
    "start_time": "2023-01-02T10:44:24.581Z"
   },
   {
    "duration": 391,
    "start_time": "2023-01-02T10:44:24.597Z"
   },
   {
    "duration": 36,
    "start_time": "2023-01-02T10:44:24.990Z"
   },
   {
    "duration": 93544,
    "start_time": "2023-01-02T10:44:25.027Z"
   },
   {
    "duration": 466,
    "start_time": "2023-01-02T10:45:58.573Z"
   },
   {
    "duration": 120,
    "start_time": "2023-01-02T10:45:59.040Z"
   },
   {
    "duration": 452,
    "start_time": "2023-01-02T10:45:59.162Z"
   },
   {
    "duration": 159,
    "start_time": "2023-01-02T10:45:59.616Z"
   }
  ],
  "kernelspec": {
   "display_name": "Python 3 (ipykernel)",
   "language": "python",
   "name": "python3"
  },
  "language_info": {
   "codemirror_mode": {
    "name": "ipython",
    "version": 3
   },
   "file_extension": ".py",
   "mimetype": "text/x-python",
   "name": "python",
   "nbconvert_exporter": "python",
   "pygments_lexer": "ipython3",
   "version": "3.10.4"
  },
  "latex_envs": {
   "LaTeX_envs_menu_present": true,
   "autoclose": false,
   "autocomplete": true,
   "bibliofile": "biblio.bib",
   "cite_by": "apalike",
   "current_citInitial": 1,
   "eqLabelWithNumbers": true,
   "eqNumInitial": 1,
   "hotkeys": {
    "equation": "Ctrl-E",
    "itemize": "Ctrl-I"
   },
   "labels_anchors": false,
   "latex_user_defs": false,
   "report_style_numbering": false,
   "user_envs_cfg": false
  },
  "toc": {
   "base_numbering": 1,
   "nav_menu": {},
   "number_sections": true,
   "sideBar": true,
   "skip_h1_title": true,
   "title_cell": "Содержание",
   "title_sidebar": "Contents",
   "toc_cell": true,
   "toc_position": {
    "height": "calc(100% - 180px)",
    "left": "10px",
    "top": "150px",
    "width": "165px"
   },
   "toc_section_display": true,
   "toc_window_display": true
  }
 },
 "nbformat": 4,
 "nbformat_minor": 2
}
